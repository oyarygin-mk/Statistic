{
 "cells": [
  {
   "cell_type": "code",
   "execution_count": 19,
   "id": "95b60beb",
   "metadata": {},
   "outputs": [],
   "source": [
    "import pandas as pd\n",
    "import seaborn as sns"
   ]
  },
  {
   "cell_type": "code",
   "execution_count": 2,
   "id": "14805a4e",
   "metadata": {},
   "outputs": [],
   "source": [
    "import numpy as np"
   ]
  },
  {
   "cell_type": "markdown",
   "id": "44bcad26",
   "metadata": {},
   "source": [
    "# Task 1"
   ]
  },
  {
   "cell_type": "markdown",
   "id": "7bf93f95",
   "metadata": {},
   "source": [
    "Менеджер виноградного дня утверждает, что 80% клиентов удовлетворены напитком. Мы опросили 100 человек. 75 Довольны. Какой вывод мы можем сделать "
   ]
  },
  {
   "cell_type": "markdown",
   "id": "876f76d5",
   "metadata": {},
   "source": [
    "# Гипотеза 1.\n",
    "Допустим удовлетворенность равна 80%. Какова при этом вероятность получить удовлетворенность 75 и ниже, при выборке 100 человек."
   ]
  },
  {
   "cell_type": "markdown",
   "id": "0ded2108",
   "metadata": {},
   "source": [
    "H0: удовлетворенность == 80% \n",
    "\n",
    "H1: удовлетворенность < 80% "
   ]
  },
  {
   "cell_type": "code",
   "execution_count": 7,
   "id": "dede2b58",
   "metadata": {},
   "outputs": [
    {
     "data": {
      "text/plain": [
       "0.82"
      ]
     },
     "execution_count": 7,
     "metadata": {},
     "output_type": "execute_result"
    }
   ],
   "source": [
    "np.random.binomial(1, 0.8, size=100).mean()"
   ]
  },
  {
   "cell_type": "code",
   "execution_count": 8,
   "id": "5a941cb0",
   "metadata": {},
   "outputs": [
    {
     "data": {
      "text/plain": [
       "False"
      ]
     },
     "execution_count": 8,
     "metadata": {},
     "output_type": "execute_result"
    }
   ],
   "source": [
    "np.random.binomial(1, 0.8, size=100).mean() <= 0.75"
   ]
  },
  {
   "cell_type": "markdown",
   "id": "7da5cc4d",
   "metadata": {},
   "source": [
    "# P - value"
   ]
  },
  {
   "cell_type": "code",
   "execution_count": 14,
   "id": "f2c19640",
   "metadata": {},
   "outputs": [
    {
     "data": {
      "text/plain": [
       "0.1349"
      ]
     },
     "execution_count": 14,
     "metadata": {},
     "output_type": "execute_result"
    }
   ],
   "source": [
    "np.mean([np.random.binomial(1, 0.8, size=100).mean() <= 0.75 for _ in range(0,10000)])"
   ]
  },
  {
   "cell_type": "code",
   "execution_count": 15,
   "id": "e44757ad",
   "metadata": {},
   "outputs": [],
   "source": [
    "from statsmodels.stats.proportion import proportions_ztest"
   ]
  },
  {
   "cell_type": "code",
   "execution_count": 17,
   "id": "83998d43",
   "metadata": {},
   "outputs": [
    {
     "data": {
      "text/plain": [
       "(-1.1547005383792526, 0.12410653949496159)"
      ]
     },
     "execution_count": 17,
     "metadata": {},
     "output_type": "execute_result"
    }
   ],
   "source": [
    "proportions_ztest(75,100, value=0.8, alternative=\"smaller\")"
   ]
  },
  {
   "cell_type": "code",
   "execution_count": 21,
   "id": "5abb990a",
   "metadata": {},
   "outputs": [
    {
     "data": {
      "text/plain": [
       "<Axes: ylabel='Count'>"
      ]
     },
     "execution_count": 21,
     "metadata": {},
     "output_type": "execute_result"
    },
    {
     "data": {
      "image/png": "[encoded data removed]",
      "text/plain": [
       "<Figure size 640x480 with 1 Axes>"
      ]
     },
     "metadata": {},
     "output_type": "display_data"
    }
   ],
   "source": [
    "sns.histplot([np.random.binomial(1, 0.8, size=100).mean() for _ in range(0,10000)])"
   ]
  },
  {
   "cell_type": "markdown",
   "id": "350b167c",
   "metadata": {},
   "source": [
    "# Гипотеза 2.\n",
    "Конверсия на текущем лединге составляет 10%, Покажем новый лендинг только 30% клиентов"
   ]
  },
  {
   "cell_type": "code",
   "execution_count": 24,
   "id": "12929792",
   "metadata": {},
   "outputs": [],
   "source": [
    "df = pd.DataFrame({\"group\":[\"old landing (A)\", \"new landing (B)\"], \"lead\":[700, 300], \"sale\":[70,48]})"
   ]
  },
  {
   "cell_type": "code",
   "execution_count": 25,
   "id": "0f79ffd4",
   "metadata": {},
   "outputs": [
    {
     "data": {
      "text/html": [
       "<div>\n",
       "<style scoped>\n",
       "    .dataframe tbody tr th:only-of-type {\n",
       "        vertical-align: middle;\n",
       "    }\n",
       "\n",
       "    .dataframe tbody tr th {\n",
       "        vertical-align: top;\n",
       "    }\n",
       "\n",
       "    .dataframe thead th {\n",
       "        text-align: right;\n",
       "    }\n",
       "</style>\n",
       "<table border=\"1\" class=\"dataframe\">\n",
       "  <thead>\n",
       "    <tr style=\"text-align: right;\">\n",
       "      <th></th>\n",
       "      <th>group</th>\n",
       "      <th>lead</th>\n",
       "      <th>sale</th>\n",
       "    </tr>\n",
       "  </thead>\n",
       "  <tbody>\n",
       "    <tr>\n",
       "      <th>0</th>\n",
       "      <td>old landing (A)</td>\n",
       "      <td>700</td>\n",
       "      <td>70</td>\n",
       "    </tr>\n",
       "    <tr>\n",
       "      <th>1</th>\n",
       "      <td>new landing (B)</td>\n",
       "      <td>300</td>\n",
       "      <td>48</td>\n",
       "    </tr>\n",
       "  </tbody>\n",
       "</table>\n",
       "</div>"
      ],
      "text/plain": [
       "             group  lead  sale\n",
       "0  old landing (A)   700    70\n",
       "1  new landing (B)   300    48"
      ]
     },
     "execution_count": 25,
     "metadata": {},
     "output_type": "execute_result"
    }
   ],
   "source": [
    "df\n"
   ]
  },
  {
   "cell_type": "code",
   "execution_count": 26,
   "id": "9a2400d0",
   "metadata": {},
   "outputs": [],
   "source": [
    "df[\"cr\"] = df[\"sale\"] / df[\"lead\"]"
   ]
  },
  {
   "cell_type": "code",
   "execution_count": 27,
   "id": "1bd51399",
   "metadata": {},
   "outputs": [
    {
     "data": {
      "text/html": [
       "<div>\n",
       "<style scoped>\n",
       "    .dataframe tbody tr th:only-of-type {\n",
       "        vertical-align: middle;\n",
       "    }\n",
       "\n",
       "    .dataframe tbody tr th {\n",
       "        vertical-align: top;\n",
       "    }\n",
       "\n",
       "    .dataframe thead th {\n",
       "        text-align: right;\n",
       "    }\n",
       "</style>\n",
       "<table border=\"1\" class=\"dataframe\">\n",
       "  <thead>\n",
       "    <tr style=\"text-align: right;\">\n",
       "      <th></th>\n",
       "      <th>group</th>\n",
       "      <th>lead</th>\n",
       "      <th>sale</th>\n",
       "      <th>cr</th>\n",
       "    </tr>\n",
       "  </thead>\n",
       "  <tbody>\n",
       "    <tr>\n",
       "      <th>0</th>\n",
       "      <td>old landing (A)</td>\n",
       "      <td>700</td>\n",
       "      <td>70</td>\n",
       "      <td>0.10</td>\n",
       "    </tr>\n",
       "    <tr>\n",
       "      <th>1</th>\n",
       "      <td>new landing (B)</td>\n",
       "      <td>300</td>\n",
       "      <td>48</td>\n",
       "      <td>0.16</td>\n",
       "    </tr>\n",
       "  </tbody>\n",
       "</table>\n",
       "</div>"
      ],
      "text/plain": [
       "             group  lead  sale    cr\n",
       "0  old landing (A)   700    70  0.10\n",
       "1  new landing (B)   300    48  0.16"
      ]
     },
     "execution_count": 27,
     "metadata": {},
     "output_type": "execute_result"
    }
   ],
   "source": [
    "df"
   ]
  },
  {
   "cell_type": "markdown",
   "id": "ffb70ee9",
   "metadata": {},
   "source": [
    "Допустим, что никакой разницы нет. Какова вероятность получить такие же или большие различия, при том, что никакой разницы нет?"
   ]
  },
  {
   "cell_type": "code",
   "execution_count": 28,
   "id": "2377902d",
   "metadata": {},
   "outputs": [
    {
     "data": {
      "text/plain": [
       "0.118"
      ]
     },
     "execution_count": 28,
     "metadata": {},
     "output_type": "execute_result"
    }
   ],
   "source": [
    "(70 + 48) / 1000"
   ]
  },
  {
   "cell_type": "code",
   "execution_count": 31,
   "id": "1a65cfd5",
   "metadata": {},
   "outputs": [
    {
     "data": {
      "text/plain": [
       "0.18857142857142858"
      ]
     },
     "execution_count": 31,
     "metadata": {},
     "output_type": "execute_result"
    }
   ],
   "source": [
    "np.random.binomial(1, 0.18, size = 700).mean()"
   ]
  },
  {
   "cell_type": "code",
   "execution_count": 32,
   "id": "7da00e27",
   "metadata": {},
   "outputs": [
    {
     "data": {
      "text/plain": [
       "0.13666666666666666"
      ]
     },
     "execution_count": 32,
     "metadata": {},
     "output_type": "execute_result"
    }
   ],
   "source": [
    "np.random.binomial(1, 0.18, size = 300).mean()"
   ]
  },
  {
   "cell_type": "code",
   "execution_count": 34,
   "id": "abbeb8c5",
   "metadata": {},
   "outputs": [
    {
     "data": {
      "text/plain": [
       "0.003809523809523818"
      ]
     },
     "execution_count": 34,
     "metadata": {},
     "output_type": "execute_result"
    }
   ],
   "source": [
    "np.random.binomial(1, 0.18, size = 300).mean() - np.random.binomial(1, 0.18, size = 700).mean()"
   ]
  },
  {
   "cell_type": "code",
   "execution_count": 35,
   "id": "01e11d59",
   "metadata": {},
   "outputs": [
    {
     "data": {
      "text/html": [
       "<div>\n",
       "<style scoped>\n",
       "    .dataframe tbody tr th:only-of-type {\n",
       "        vertical-align: middle;\n",
       "    }\n",
       "\n",
       "    .dataframe tbody tr th {\n",
       "        vertical-align: top;\n",
       "    }\n",
       "\n",
       "    .dataframe thead th {\n",
       "        text-align: right;\n",
       "    }\n",
       "</style>\n",
       "<table border=\"1\" class=\"dataframe\">\n",
       "  <thead>\n",
       "    <tr style=\"text-align: right;\">\n",
       "      <th></th>\n",
       "      <th>group</th>\n",
       "      <th>lead</th>\n",
       "      <th>sale</th>\n",
       "      <th>cr</th>\n",
       "    </tr>\n",
       "  </thead>\n",
       "  <tbody>\n",
       "    <tr>\n",
       "      <th>0</th>\n",
       "      <td>old landing (A)</td>\n",
       "      <td>700</td>\n",
       "      <td>70</td>\n",
       "      <td>0.10</td>\n",
       "    </tr>\n",
       "    <tr>\n",
       "      <th>1</th>\n",
       "      <td>new landing (B)</td>\n",
       "      <td>300</td>\n",
       "      <td>48</td>\n",
       "      <td>0.16</td>\n",
       "    </tr>\n",
       "  </tbody>\n",
       "</table>\n",
       "</div>"
      ],
      "text/plain": [
       "             group  lead  sale    cr\n",
       "0  old landing (A)   700    70  0.10\n",
       "1  new landing (B)   300    48  0.16"
      ]
     },
     "execution_count": 35,
     "metadata": {},
     "output_type": "execute_result"
    }
   ],
   "source": [
    "df"
   ]
  },
  {
   "cell_type": "markdown",
   "id": "528fc103",
   "metadata": {},
   "source": [
    "https://www.investopedia.com/terms/t/two-tailed-test.asp"
   ]
  },
  {
   "cell_type": "code",
   "execution_count": 38,
   "id": "760317b6",
   "metadata": {},
   "outputs": [
    {
     "data": {
      "text/plain": [
       "False"
      ]
     },
     "execution_count": 38,
     "metadata": {},
     "output_type": "execute_result"
    }
   ],
   "source": [
    "abs(np.random.binomial(1, 0.18, size = 300).mean() \n",
    "    - np.random.binomial(1, 0.18, size = 700).mean()) >= 0.16"
   ]
  },
  {
   "cell_type": "code",
   "execution_count": 49,
   "id": "d0c58f98",
   "metadata": {},
   "outputs": [
    {
     "data": {
      "text/plain": [
       "[False, False, False, False, False, False, False, False, True, False]"
      ]
     },
     "execution_count": 49,
     "metadata": {},
     "output_type": "execute_result"
    }
   ],
   "source": [
    "[abs(np.random.binomial(1, 0.118, size = 300).mean() \n",
    "    - np.random.binomial(1, 0.118, size = 700).mean()) >= 0.06 for _ in range(10)]"
   ]
  },
  {
   "cell_type": "code",
   "execution_count": 50,
   "id": "28358742",
   "metadata": {},
   "outputs": [
    {
     "data": {
      "text/plain": [
       "0.009"
      ]
     },
     "execution_count": 50,
     "metadata": {},
     "output_type": "execute_result"
    }
   ],
   "source": [
    "np.mean(([abs(np.random.binomial(1, 0.118, size = 300).mean() \n",
    "    - np.random.binomial(1, 0.118, size = 700).mean()) >= 0.06 for _ in range(1000)]))"
   ]
  },
  {
   "cell_type": "code",
   "execution_count": 51,
   "id": "2496740e",
   "metadata": {},
   "outputs": [],
   "source": [
    "# Link https://www.evanmiller.org/ab-testing/"
   ]
  },
  {
   "cell_type": "code",
   "execution_count": null,
   "id": "ea7dee64",
   "metadata": {},
   "outputs": [],
   "source": [
    "df"
   ]
  },
  {
   "cell_type": "code",
   "execution_count": 82,
   "id": "bdb1132d",
   "metadata": {},
   "outputs": [
    {
     "data": {
      "text/plain": [
       "(-2.695166510284625, 0.007035346384355496)"
      ]
     },
     "execution_count": 82,
     "metadata": {},
     "output_type": "execute_result"
    }
   ],
   "source": [
    "proportions_ztest([70,48], [700, 300]) # второе значение p (value) "
   ]
  },
  {
   "cell_type": "markdown",
   "id": "69157ebc",
   "metadata": {},
   "source": [
    "# Уровень значимость или альфа"
   ]
  },
  {
   "cell_type": "markdown",
   "id": "65a1f544",
   "metadata": {},
   "source": [
    "0.05 "
   ]
  },
  {
   "cell_type": "code",
   "execution_count": 90,
   "id": "3b153cbd",
   "metadata": {},
   "outputs": [],
   "source": [
    "from tqdm.notebook import tqdm"
   ]
  },
  {
   "cell_type": "code",
   "execution_count": 99,
   "id": "595f8be6",
   "metadata": {},
   "outputs": [],
   "source": [
    "n = 1000 \n",
    "result = []\n",
    "for _ in (range(n)):\n",
    "    a = np.random.binomial(1, 0.118, size=700).mean()\n",
    "    b = np.random.binomial(1, 0.118, size=300).mean()\n",
    "    diff = abs(a-b)\n",
    "\n",
    "    pval  = np.mean(([abs(np.random.binomial(1, 0.118, size = 300).mean() \n",
    "        - np.random.binomial(1, 0.118, size = 700).mean()) >= diff for _ in range(1000)]))\n",
    "\n",
    "    result.append(pval)"
   ]
  },
  {
   "cell_type": "code",
   "execution_count": 100,
   "id": "8b71dd5e",
   "metadata": {},
   "outputs": [
    {
     "data": {
      "text/plain": [
       "<Axes: ylabel='Count'>"
      ]
     },
     "execution_count": 100,
     "metadata": {},
     "output_type": "execute_result"
    },
    {
     "data": {
      "image/png": "[encoded data removed]",
      "text/plain": [
       "<Figure size 640x480 with 1 Axes>"
      ]
     },
     "metadata": {},
     "output_type": "display_data"
    }
   ],
   "source": [
    "sns.histplot(result)"
   ]
  },
  {
   "cell_type": "code",
   "execution_count": 104,
   "id": "2871b267",
   "metadata": {},
   "outputs": [
    {
     "data": {
      "text/plain": [
       "0.054"
      ]
     },
     "execution_count": 104,
     "metadata": {},
     "output_type": "execute_result"
    }
   ],
   "source": [
    "(np.array(result)< 0.05).mean()"
   ]
  },
  {
   "cell_type": "code",
   "execution_count": 105,
   "id": "a97e3fc1",
   "metadata": {},
   "outputs": [],
   "source": [
    "df = pd.DataFrame(np.random.normal(size=1000))"
   ]
  },
  {
   "cell_type": "code",
   "execution_count": 106,
   "id": "6a19976d",
   "metadata": {},
   "outputs": [
    {
     "data": {
      "text/plain": [
       "array([[<Axes: title={'center': '0'}>]], dtype=object)"
      ]
     },
     "execution_count": 106,
     "metadata": {},
     "output_type": "execute_result"
    },
    {
     "data": {
      "image/png": "[encoded data removed]",
      "text/plain": [
       "<Figure size 640x480 with 1 Axes>"
      ]
     },
     "metadata": {},
     "output_type": "display_data"
    }
   ],
   "source": [
    "df.hist()"
   ]
  },
  {
   "cell_type": "code",
   "execution_count": 108,
   "id": "6eab8597",
   "metadata": {},
   "outputs": [],
   "source": [
    "df = df.sort_values(0)"
   ]
  },
  {
   "cell_type": "code",
   "execution_count": 109,
   "id": "7ea20342",
   "metadata": {},
   "outputs": [
    {
     "data": {
      "text/html": [
       "<div>\n",
       "<style scoped>\n",
       "    .dataframe tbody tr th:only-of-type {\n",
       "        vertical-align: middle;\n",
       "    }\n",
       "\n",
       "    .dataframe tbody tr th {\n",
       "        vertical-align: top;\n",
       "    }\n",
       "\n",
       "    .dataframe thead th {\n",
       "        text-align: right;\n",
       "    }\n",
       "</style>\n",
       "<table border=\"1\" class=\"dataframe\">\n",
       "  <thead>\n",
       "    <tr style=\"text-align: right;\">\n",
       "      <th></th>\n",
       "      <th>0</th>\n",
       "    </tr>\n",
       "  </thead>\n",
       "  <tbody>\n",
       "    <tr>\n",
       "      <th>848</th>\n",
       "      <td>-3.667520</td>\n",
       "    </tr>\n",
       "    <tr>\n",
       "      <th>691</th>\n",
       "      <td>-3.073892</td>\n",
       "    </tr>\n",
       "    <tr>\n",
       "      <th>416</th>\n",
       "      <td>-2.928459</td>\n",
       "    </tr>\n",
       "    <tr>\n",
       "      <th>665</th>\n",
       "      <td>-2.773190</td>\n",
       "    </tr>\n",
       "    <tr>\n",
       "      <th>938</th>\n",
       "      <td>-2.613650</td>\n",
       "    </tr>\n",
       "    <tr>\n",
       "      <th>...</th>\n",
       "      <td>...</td>\n",
       "    </tr>\n",
       "    <tr>\n",
       "      <th>517</th>\n",
       "      <td>2.477952</td>\n",
       "    </tr>\n",
       "    <tr>\n",
       "      <th>868</th>\n",
       "      <td>2.504588</td>\n",
       "    </tr>\n",
       "    <tr>\n",
       "      <th>770</th>\n",
       "      <td>2.517368</td>\n",
       "    </tr>\n",
       "    <tr>\n",
       "      <th>578</th>\n",
       "      <td>2.549886</td>\n",
       "    </tr>\n",
       "    <tr>\n",
       "      <th>289</th>\n",
       "      <td>3.030880</td>\n",
       "    </tr>\n",
       "  </tbody>\n",
       "</table>\n",
       "<p>1000 rows × 1 columns</p>\n",
       "</div>"
      ],
      "text/plain": [
       "            0\n",
       "848 -3.667520\n",
       "691 -3.073892\n",
       "416 -2.928459\n",
       "665 -2.773190\n",
       "938 -2.613650\n",
       "..        ...\n",
       "517  2.477952\n",
       "868  2.504588\n",
       "770  2.517368\n",
       "578  2.549886\n",
       "289  3.030880\n",
       "\n",
       "[1000 rows x 1 columns]"
      ]
     },
     "execution_count": 109,
     "metadata": {},
     "output_type": "execute_result"
    }
   ],
   "source": [
    "df"
   ]
  },
  {
   "cell_type": "code",
   "execution_count": 110,
   "id": "cfbb4bd7",
   "metadata": {},
   "outputs": [],
   "source": [
    "df[\"cnt\"] = range(1,1001)"
   ]
  },
  {
   "cell_type": "code",
   "execution_count": 112,
   "id": "9e36dde7",
   "metadata": {},
   "outputs": [],
   "source": [
    "df[\"pct\"] = df[\"cnt\"] / 1000"
   ]
  },
  {
   "cell_type": "code",
   "execution_count": 113,
   "id": "5ea96b83",
   "metadata": {},
   "outputs": [
    {
     "data": {
      "text/html": [
       "<div>\n",
       "<style scoped>\n",
       "    .dataframe tbody tr th:only-of-type {\n",
       "        vertical-align: middle;\n",
       "    }\n",
       "\n",
       "    .dataframe tbody tr th {\n",
       "        vertical-align: top;\n",
       "    }\n",
       "\n",
       "    .dataframe thead th {\n",
       "        text-align: right;\n",
       "    }\n",
       "</style>\n",
       "<table border=\"1\" class=\"dataframe\">\n",
       "  <thead>\n",
       "    <tr style=\"text-align: right;\">\n",
       "      <th></th>\n",
       "      <th>0</th>\n",
       "      <th>cnt</th>\n",
       "      <th>pct</th>\n",
       "    </tr>\n",
       "  </thead>\n",
       "  <tbody>\n",
       "    <tr>\n",
       "      <th>848</th>\n",
       "      <td>-3.667520</td>\n",
       "      <td>1</td>\n",
       "      <td>0.001</td>\n",
       "    </tr>\n",
       "    <tr>\n",
       "      <th>691</th>\n",
       "      <td>-3.073892</td>\n",
       "      <td>2</td>\n",
       "      <td>0.002</td>\n",
       "    </tr>\n",
       "    <tr>\n",
       "      <th>416</th>\n",
       "      <td>-2.928459</td>\n",
       "      <td>3</td>\n",
       "      <td>0.003</td>\n",
       "    </tr>\n",
       "    <tr>\n",
       "      <th>665</th>\n",
       "      <td>-2.773190</td>\n",
       "      <td>4</td>\n",
       "      <td>0.004</td>\n",
       "    </tr>\n",
       "    <tr>\n",
       "      <th>938</th>\n",
       "      <td>-2.613650</td>\n",
       "      <td>5</td>\n",
       "      <td>0.005</td>\n",
       "    </tr>\n",
       "    <tr>\n",
       "      <th>...</th>\n",
       "      <td>...</td>\n",
       "      <td>...</td>\n",
       "      <td>...</td>\n",
       "    </tr>\n",
       "    <tr>\n",
       "      <th>517</th>\n",
       "      <td>2.477952</td>\n",
       "      <td>996</td>\n",
       "      <td>0.996</td>\n",
       "    </tr>\n",
       "    <tr>\n",
       "      <th>868</th>\n",
       "      <td>2.504588</td>\n",
       "      <td>997</td>\n",
       "      <td>0.997</td>\n",
       "    </tr>\n",
       "    <tr>\n",
       "      <th>770</th>\n",
       "      <td>2.517368</td>\n",
       "      <td>998</td>\n",
       "      <td>0.998</td>\n",
       "    </tr>\n",
       "    <tr>\n",
       "      <th>578</th>\n",
       "      <td>2.549886</td>\n",
       "      <td>999</td>\n",
       "      <td>0.999</td>\n",
       "    </tr>\n",
       "    <tr>\n",
       "      <th>289</th>\n",
       "      <td>3.030880</td>\n",
       "      <td>1000</td>\n",
       "      <td>1.000</td>\n",
       "    </tr>\n",
       "  </tbody>\n",
       "</table>\n",
       "<p>1000 rows × 3 columns</p>\n",
       "</div>"
      ],
      "text/plain": [
       "            0   cnt    pct\n",
       "848 -3.667520     1  0.001\n",
       "691 -3.073892     2  0.002\n",
       "416 -2.928459     3  0.003\n",
       "665 -2.773190     4  0.004\n",
       "938 -2.613650     5  0.005\n",
       "..        ...   ...    ...\n",
       "517  2.477952   996  0.996\n",
       "868  2.504588   997  0.997\n",
       "770  2.517368   998  0.998\n",
       "578  2.549886   999  0.999\n",
       "289  3.030880  1000  1.000\n",
       "\n",
       "[1000 rows x 3 columns]"
      ]
     },
     "execution_count": 113,
     "metadata": {},
     "output_type": "execute_result"
    }
   ],
   "source": [
    "df"
   ]
  },
  {
   "cell_type": "code",
   "execution_count": 114,
   "id": "6cc112be",
   "metadata": {},
   "outputs": [
    {
     "data": {
      "text/plain": [
       "<Axes: >"
      ]
     },
     "execution_count": 114,
     "metadata": {},
     "output_type": "execute_result"
    },
    {
     "data": {
      "image/png": "[encoded data removed]",
      "text/plain": [
       "<Figure size 640x480 with 1 Axes>"
      ]
     },
     "metadata": {},
     "output_type": "display_data"
    }
   ],
   "source": [
    "df[\"pct\"].hist()"
   ]
  },
  {
   "cell_type": "code",
   "execution_count": 120,
   "id": "1cc17774",
   "metadata": {},
   "outputs": [],
   "source": [
    "df[\"bin\"] = pd.cut(df[\"pct\"], 10)"
   ]
  },
  {
   "cell_type": "code",
   "execution_count": 121,
   "id": "dce44fd4",
   "metadata": {},
   "outputs": [
    {
     "data": {
      "text/plain": [
       "bin\n",
       "(1e-06, 0.101]    100\n",
       "(0.101, 0.201]    100\n",
       "(0.201, 0.301]    100\n",
       "(0.301, 0.401]    100\n",
       "(0.401, 0.5]      100\n",
       "(0.5, 0.6]        100\n",
       "(0.6, 0.7]        100\n",
       "(0.7, 0.8]        100\n",
       "(0.8, 0.9]        100\n",
       "(0.9, 1.0]        100\n",
       "Name: pct, dtype: int64"
      ]
     },
     "execution_count": 121,
     "metadata": {},
     "output_type": "execute_result"
    }
   ],
   "source": [
    "df.groupby(\"bin\")[\"pct\"].count()"
   ]
  },
  {
   "cell_type": "code",
   "execution_count": null,
   "id": "af80baa9",
   "metadata": {},
   "outputs": [],
   "source": []
  },
  {
   "cell_type": "code",
   "execution_count": null,
   "id": "fcd5525e",
   "metadata": {},
   "outputs": [],
   "source": []
  }
 ],
 "metadata": {
  "kernelspec": {
   "display_name": "Python 3 (ipykernel)",
   "language": "python",
   "name": "python3"
  },
  "language_info": {
   "codemirror_mode": {
    "name": "ipython",
    "version": 3
   },
   "file_extension": ".py",
   "mimetype": "text/x-python",
   "name": "python",
   "nbconvert_exporter": "python",
   "pygments_lexer": "ipython3",
   "version": "3.10.9"
  }
 },
 "nbformat": 4,
 "nbformat_minor": 5
}
