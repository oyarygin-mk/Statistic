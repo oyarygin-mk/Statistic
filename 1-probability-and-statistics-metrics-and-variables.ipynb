{
 "cells": [
  {
   "cell_type": "code",
   "execution_count": 9,
   "id": "7ab296b8",
   "metadata": {},
   "outputs": [],
   "source": [
    "import pandas as pd\n",
    "import numpy as np"
   ]
  },
  {
   "cell_type": "markdown",
   "id": "c21525ed",
   "metadata": {},
   "source": [
    "https://drive.google.com/file/d/1zLKWeJ_OZjxuKlP561-GopniC0_Pt_X6/view?usp=sharing"
   ]
  },
  {
   "cell_type": "code",
   "execution_count": 13,
   "id": "e8988aae",
   "metadata": {},
   "outputs": [],
   "source": [
    "df = pd.read_csv(\"/Users/olegyarygin/Projects/Statistica/age_children_income_1000.csv\")"
   ]
  },
  {
   "cell_type": "code",
   "execution_count": 14,
   "id": "3baf05e0",
   "metadata": {},
   "outputs": [
    {
     "data": {
      "text/html": [
       "<div>\n",
       "<style scoped>\n",
       "    .dataframe tbody tr th:only-of-type {\n",
       "        vertical-align: middle;\n",
       "    }\n",
       "\n",
       "    .dataframe tbody tr th {\n",
       "        vertical-align: top;\n",
       "    }\n",
       "\n",
       "    .dataframe thead th {\n",
       "        text-align: right;\n",
       "    }\n",
       "</style>\n",
       "<table border=\"1\" class=\"dataframe\">\n",
       "  <thead>\n",
       "    <tr style=\"text-align: right;\">\n",
       "      <th></th>\n",
       "      <th>age</th>\n",
       "      <th>number_of_children</th>\n",
       "      <th>income</th>\n",
       "    </tr>\n",
       "  </thead>\n",
       "  <tbody>\n",
       "    <tr>\n",
       "      <th>0</th>\n",
       "      <td>42.772420</td>\n",
       "      <td>0</td>\n",
       "      <td>34396.537188</td>\n",
       "    </tr>\n",
       "    <tr>\n",
       "      <th>1</th>\n",
       "      <td>29.561090</td>\n",
       "      <td>0</td>\n",
       "      <td>183350.052521</td>\n",
       "    </tr>\n",
       "    <tr>\n",
       "      <th>2</th>\n",
       "      <td>54.380735</td>\n",
       "      <td>0</td>\n",
       "      <td>53689.856555</td>\n",
       "    </tr>\n",
       "    <tr>\n",
       "      <th>3</th>\n",
       "      <td>42.551689</td>\n",
       "      <td>0</td>\n",
       "      <td>109080.913926</td>\n",
       "    </tr>\n",
       "    <tr>\n",
       "      <th>4</th>\n",
       "      <td>38.713080</td>\n",
       "      <td>0</td>\n",
       "      <td>153612.343419</td>\n",
       "    </tr>\n",
       "    <tr>\n",
       "      <th>...</th>\n",
       "      <td>...</td>\n",
       "      <td>...</td>\n",
       "      <td>...</td>\n",
       "    </tr>\n",
       "    <tr>\n",
       "      <th>995</th>\n",
       "      <td>36.281055</td>\n",
       "      <td>0</td>\n",
       "      <td>128647.922872</td>\n",
       "    </tr>\n",
       "    <tr>\n",
       "      <th>996</th>\n",
       "      <td>18.472716</td>\n",
       "      <td>0</td>\n",
       "      <td>67204.531673</td>\n",
       "    </tr>\n",
       "    <tr>\n",
       "      <th>997</th>\n",
       "      <td>40.547748</td>\n",
       "      <td>0</td>\n",
       "      <td>139432.757984</td>\n",
       "    </tr>\n",
       "    <tr>\n",
       "      <th>998</th>\n",
       "      <td>24.791760</td>\n",
       "      <td>1</td>\n",
       "      <td>137526.452334</td>\n",
       "    </tr>\n",
       "    <tr>\n",
       "      <th>999</th>\n",
       "      <td>46.662848</td>\n",
       "      <td>0</td>\n",
       "      <td>148449.261137</td>\n",
       "    </tr>\n",
       "  </tbody>\n",
       "</table>\n",
       "<p>1000 rows × 3 columns</p>\n",
       "</div>"
      ],
      "text/plain": [
       "           age  number_of_children         income\n",
       "0    42.772420                   0   34396.537188\n",
       "1    29.561090                   0  183350.052521\n",
       "2    54.380735                   0   53689.856555\n",
       "3    42.551689                   0  109080.913926\n",
       "4    38.713080                   0  153612.343419\n",
       "..         ...                 ...            ...\n",
       "995  36.281055                   0  128647.922872\n",
       "996  18.472716                   0   67204.531673\n",
       "997  40.547748                   0  139432.757984\n",
       "998  24.791760                   1  137526.452334\n",
       "999  46.662848                   0  148449.261137\n",
       "\n",
       "[1000 rows x 3 columns]"
      ]
     },
     "execution_count": 14,
     "metadata": {},
     "output_type": "execute_result"
    }
   ],
   "source": [
    "df"
   ]
  },
  {
   "cell_type": "code",
   "execution_count": 15,
   "id": "47cf4a35",
   "metadata": {},
   "outputs": [
    {
     "data": {
      "text/html": [
       "<div>\n",
       "<style scoped>\n",
       "    .dataframe tbody tr th:only-of-type {\n",
       "        vertical-align: middle;\n",
       "    }\n",
       "\n",
       "    .dataframe tbody tr th {\n",
       "        vertical-align: top;\n",
       "    }\n",
       "\n",
       "    .dataframe thead th {\n",
       "        text-align: right;\n",
       "    }\n",
       "</style>\n",
       "<table border=\"1\" class=\"dataframe\">\n",
       "  <thead>\n",
       "    <tr style=\"text-align: right;\">\n",
       "      <th></th>\n",
       "      <th>age</th>\n",
       "      <th>number_of_children</th>\n",
       "      <th>income</th>\n",
       "    </tr>\n",
       "  </thead>\n",
       "  <tbody>\n",
       "    <tr>\n",
       "      <th>0</th>\n",
       "      <td>42.772420</td>\n",
       "      <td>0</td>\n",
       "      <td>34396.537188</td>\n",
       "    </tr>\n",
       "    <tr>\n",
       "      <th>1</th>\n",
       "      <td>29.561090</td>\n",
       "      <td>0</td>\n",
       "      <td>183350.052521</td>\n",
       "    </tr>\n",
       "    <tr>\n",
       "      <th>2</th>\n",
       "      <td>54.380735</td>\n",
       "      <td>0</td>\n",
       "      <td>53689.856555</td>\n",
       "    </tr>\n",
       "    <tr>\n",
       "      <th>3</th>\n",
       "      <td>42.551689</td>\n",
       "      <td>0</td>\n",
       "      <td>109080.913926</td>\n",
       "    </tr>\n",
       "    <tr>\n",
       "      <th>4</th>\n",
       "      <td>38.713080</td>\n",
       "      <td>0</td>\n",
       "      <td>153612.343419</td>\n",
       "    </tr>\n",
       "  </tbody>\n",
       "</table>\n",
       "</div>"
      ],
      "text/plain": [
       "         age  number_of_children         income\n",
       "0  42.772420                   0   34396.537188\n",
       "1  29.561090                   0  183350.052521\n",
       "2  54.380735                   0   53689.856555\n",
       "3  42.551689                   0  109080.913926\n",
       "4  38.713080                   0  153612.343419"
      ]
     },
     "execution_count": 15,
     "metadata": {},
     "output_type": "execute_result"
    }
   ],
   "source": [
    "df.head()"
   ]
  },
  {
   "cell_type": "code",
   "execution_count": 16,
   "id": "3560cc96",
   "metadata": {},
   "outputs": [],
   "source": [
    "# Переменные бывают двух типов (дискретной - 32 и непрерывные - 32.412)"
   ]
  },
  {
   "cell_type": "code",
   "execution_count": 23,
   "id": "91b64833",
   "metadata": {},
   "outputs": [
    {
     "data": {
      "text/plain": [
       "number_of_children\n",
       "0    658\n",
       "1    226\n",
       "2     94\n",
       "3     20\n",
       "5      1\n",
       "4      1\n",
       "Name: count, dtype: int64"
      ]
     },
     "execution_count": 23,
     "metadata": {},
     "output_type": "execute_result"
    }
   ],
   "source": [
    "df[\"number_of_children\"].value_counts()"
   ]
  },
  {
   "cell_type": "code",
   "execution_count": 24,
   "id": "d5ab70b6",
   "metadata": {},
   "outputs": [
    {
     "data": {
      "text/plain": [
       "number_of_children\n",
       "0    0.658\n",
       "1    0.226\n",
       "2    0.094\n",
       "3    0.020\n",
       "5    0.001\n",
       "4    0.001\n",
       "Name: proportion, dtype: float64"
      ]
     },
     "execution_count": 24,
     "metadata": {},
     "output_type": "execute_result"
    }
   ],
   "source": [
    "df[\"number_of_children\"].value_counts(normalize=True)"
   ]
  },
  {
   "cell_type": "code",
   "execution_count": 25,
   "id": "0b5ddb4b",
   "metadata": {},
   "outputs": [
    {
     "data": {
      "text/plain": [
       "<Axes: >"
      ]
     },
     "execution_count": 25,
     "metadata": {},
     "output_type": "execute_result"
    },
    {
     "data": {
      "image/png": "[encoded data removed]",
      "text/plain": [
       "<Figure size 640x480 with 1 Axes>"
      ]
     },
     "metadata": {},
     "output_type": "display_data"
    }
   ],
   "source": [
    "df[\"number_of_children\"].hist()"
   ]
  },
  {
   "cell_type": "code",
   "execution_count": 26,
   "id": "6de6bb81",
   "metadata": {},
   "outputs": [],
   "source": [
    "import seaborn as sns"
   ]
  },
  {
   "cell_type": "code",
   "execution_count": 29,
   "id": "e899d703",
   "metadata": {},
   "outputs": [
    {
     "data": {
      "text/plain": [
       "<Axes: xlabel='number_of_children', ylabel='Probability'>"
      ]
     },
     "execution_count": 29,
     "metadata": {},
     "output_type": "execute_result"
    },
    {
     "data": {
      "image/png": "[encoded data removed]",
      "text/plain": [
       "<Figure size 640x480 with 1 Axes>"
      ]
     },
     "metadata": {},
     "output_type": "display_data"
    }
   ],
   "source": [
    "sns.histplot(df[\"number_of_children\"], stat=\"probability\")"
   ]
  },
  {
   "cell_type": "code",
   "execution_count": 30,
   "id": "56e31695",
   "metadata": {},
   "outputs": [
    {
     "data": {
      "text/html": [
       "<div>\n",
       "<style scoped>\n",
       "    .dataframe tbody tr th:only-of-type {\n",
       "        vertical-align: middle;\n",
       "    }\n",
       "\n",
       "    .dataframe tbody tr th {\n",
       "        vertical-align: top;\n",
       "    }\n",
       "\n",
       "    .dataframe thead th {\n",
       "        text-align: right;\n",
       "    }\n",
       "</style>\n",
       "<table border=\"1\" class=\"dataframe\">\n",
       "  <thead>\n",
       "    <tr style=\"text-align: right;\">\n",
       "      <th></th>\n",
       "      <th>age</th>\n",
       "      <th>number_of_children</th>\n",
       "      <th>income</th>\n",
       "    </tr>\n",
       "  </thead>\n",
       "  <tbody>\n",
       "    <tr>\n",
       "      <th>0</th>\n",
       "      <td>42.772420</td>\n",
       "      <td>0</td>\n",
       "      <td>34396.537188</td>\n",
       "    </tr>\n",
       "    <tr>\n",
       "      <th>1</th>\n",
       "      <td>29.561090</td>\n",
       "      <td>0</td>\n",
       "      <td>183350.052521</td>\n",
       "    </tr>\n",
       "    <tr>\n",
       "      <th>2</th>\n",
       "      <td>54.380735</td>\n",
       "      <td>0</td>\n",
       "      <td>53689.856555</td>\n",
       "    </tr>\n",
       "    <tr>\n",
       "      <th>3</th>\n",
       "      <td>42.551689</td>\n",
       "      <td>0</td>\n",
       "      <td>109080.913926</td>\n",
       "    </tr>\n",
       "    <tr>\n",
       "      <th>4</th>\n",
       "      <td>38.713080</td>\n",
       "      <td>0</td>\n",
       "      <td>153612.343419</td>\n",
       "    </tr>\n",
       "  </tbody>\n",
       "</table>\n",
       "</div>"
      ],
      "text/plain": [
       "         age  number_of_children         income\n",
       "0  42.772420                   0   34396.537188\n",
       "1  29.561090                   0  183350.052521\n",
       "2  54.380735                   0   53689.856555\n",
       "3  42.551689                   0  109080.913926\n",
       "4  38.713080                   0  153612.343419"
      ]
     },
     "execution_count": 30,
     "metadata": {},
     "output_type": "execute_result"
    }
   ],
   "source": [
    "df.head()"
   ]
  },
  {
   "cell_type": "code",
   "execution_count": 34,
   "id": "c0707b18",
   "metadata": {},
   "outputs": [
    {
     "data": {
      "text/plain": [
       "age\n",
       "46.662848    1\n",
       "42.772420    1\n",
       "29.561090    1\n",
       "54.380735    1\n",
       "42.551689    1\n",
       "            ..\n",
       "39.229314    1\n",
       "44.010106    1\n",
       "49.962963    1\n",
       "54.381865    1\n",
       "48.863274    1\n",
       "Name: count, Length: 1000, dtype: int64"
      ]
     },
     "execution_count": 34,
     "metadata": {},
     "output_type": "execute_result"
    }
   ],
   "source": [
    "df[\"age\"].value_counts() # Не имеет смысл, не во что группировать "
   ]
  },
  {
   "cell_type": "code",
   "execution_count": 35,
   "id": "7352472b",
   "metadata": {},
   "outputs": [],
   "source": [
    "# Необзодимо ращбить на кусочки "
   ]
  },
  {
   "cell_type": "code",
   "execution_count": 36,
   "id": "2c607b82",
   "metadata": {},
   "outputs": [
    {
     "data": {
      "text/plain": [
       "<Axes: >"
      ]
     },
     "execution_count": 36,
     "metadata": {},
     "output_type": "execute_result"
    },
    {
     "data": {
      "image/png": "[encoded data removed]",
      "text/plain": [
       "<Figure size 640x480 with 1 Axes>"
      ]
     },
     "metadata": {},
     "output_type": "display_data"
    }
   ],
   "source": [
    "df[\"age\"].hist()"
   ]
  },
  {
   "cell_type": "code",
   "execution_count": 37,
   "id": "48d12a38",
   "metadata": {},
   "outputs": [
    {
     "data": {
      "text/plain": [
       "<Axes: xlabel='age', ylabel='Count'>"
      ]
     },
     "execution_count": 37,
     "metadata": {},
     "output_type": "execute_result"
    },
    {
     "data": {
      "image/png": "[encoded data removed]",
      "text/plain": [
       "<Figure size 640x480 with 1 Axes>"
      ]
     },
     "metadata": {},
     "output_type": "display_data"
    }
   ],
   "source": [
    "sns.histplot(df[\"age\"])"
   ]
  },
  {
   "cell_type": "code",
   "execution_count": 43,
   "id": "09942e4c",
   "metadata": {},
   "outputs": [],
   "source": [
    "df[\"age_bin\"] = pd.cut(df[\"age\"], 10)"
   ]
  },
  {
   "cell_type": "code",
   "execution_count": 44,
   "id": "1fdbfbe8",
   "metadata": {},
   "outputs": [
    {
     "data": {
      "text/plain": [
       "age_bin\n",
       "(17.402, 22.107]     49\n",
       "(22.107, 26.766]    124\n",
       "(26.766, 31.425]    140\n",
       "(31.425, 36.084]    134\n",
       "(36.084, 40.743]    131\n",
       "(40.743, 45.401]    141\n",
       "(45.401, 50.06]     101\n",
       "(50.06, 54.719]     121\n",
       "(54.719, 59.378]     50\n",
       "(59.378, 64.037]      9\n",
       "Name: age, dtype: int64"
      ]
     },
     "execution_count": 44,
     "metadata": {},
     "output_type": "execute_result"
    }
   ],
   "source": [
    "df.groupby(\"age_bin\")[\"age\"].count()"
   ]
  },
  {
   "cell_type": "code",
   "execution_count": 46,
   "id": "b61dd12f",
   "metadata": {},
   "outputs": [
    {
     "data": {
      "text/plain": [
       "0.483"
      ]
     },
     "execution_count": 46,
     "metadata": {},
     "output_type": "execute_result"
    }
   ],
   "source": [
    "df[\"number_of_children\"].mean().mean()"
   ]
  },
  {
   "cell_type": "code",
   "execution_count": 47,
   "id": "74485c25",
   "metadata": {},
   "outputs": [
    {
     "data": {
      "text/plain": [
       "38.31925590719966"
      ]
     },
     "execution_count": 47,
     "metadata": {},
     "output_type": "execute_result"
    }
   ],
   "source": [
    "df[\"age\"].mean()"
   ]
  },
  {
   "cell_type": "code",
   "execution_count": 49,
   "id": "a623b664",
   "metadata": {},
   "outputs": [
    {
     "data": {
      "text/html": [
       "<div>\n",
       "<style scoped>\n",
       "    .dataframe tbody tr th:only-of-type {\n",
       "        vertical-align: middle;\n",
       "    }\n",
       "\n",
       "    .dataframe tbody tr th {\n",
       "        vertical-align: top;\n",
       "    }\n",
       "\n",
       "    .dataframe thead th {\n",
       "        text-align: right;\n",
       "    }\n",
       "</style>\n",
       "<table border=\"1\" class=\"dataframe\">\n",
       "  <thead>\n",
       "    <tr style=\"text-align: right;\">\n",
       "      <th></th>\n",
       "      <th>age</th>\n",
       "      <th>number_of_children</th>\n",
       "      <th>income</th>\n",
       "      <th>age_bin</th>\n",
       "    </tr>\n",
       "  </thead>\n",
       "  <tbody>\n",
       "    <tr>\n",
       "      <th>0</th>\n",
       "      <td>42.772420</td>\n",
       "      <td>0</td>\n",
       "      <td>34396.537188</td>\n",
       "      <td>(40.743, 45.401]</td>\n",
       "    </tr>\n",
       "    <tr>\n",
       "      <th>1</th>\n",
       "      <td>29.561090</td>\n",
       "      <td>0</td>\n",
       "      <td>183350.052521</td>\n",
       "      <td>(26.766, 31.425]</td>\n",
       "    </tr>\n",
       "    <tr>\n",
       "      <th>2</th>\n",
       "      <td>54.380735</td>\n",
       "      <td>0</td>\n",
       "      <td>53689.856555</td>\n",
       "      <td>(50.06, 54.719]</td>\n",
       "    </tr>\n",
       "    <tr>\n",
       "      <th>3</th>\n",
       "      <td>42.551689</td>\n",
       "      <td>0</td>\n",
       "      <td>109080.913926</td>\n",
       "      <td>(40.743, 45.401]</td>\n",
       "    </tr>\n",
       "    <tr>\n",
       "      <th>4</th>\n",
       "      <td>38.713080</td>\n",
       "      <td>0</td>\n",
       "      <td>153612.343419</td>\n",
       "      <td>(36.084, 40.743]</td>\n",
       "    </tr>\n",
       "  </tbody>\n",
       "</table>\n",
       "</div>"
      ],
      "text/plain": [
       "         age  number_of_children         income           age_bin\n",
       "0  42.772420                   0   34396.537188  (40.743, 45.401]\n",
       "1  29.561090                   0  183350.052521  (26.766, 31.425]\n",
       "2  54.380735                   0   53689.856555   (50.06, 54.719]\n",
       "3  42.551689                   0  109080.913926  (40.743, 45.401]\n",
       "4  38.713080                   0  153612.343419  (36.084, 40.743]"
      ]
     },
     "execution_count": 49,
     "metadata": {},
     "output_type": "execute_result"
    }
   ],
   "source": [
    "df.head()"
   ]
  },
  {
   "cell_type": "code",
   "execution_count": 53,
   "id": "4926b7fd",
   "metadata": {},
   "outputs": [],
   "source": [
    "salary = pd.Series([10,20,30,40,10,55])"
   ]
  },
  {
   "cell_type": "code",
   "execution_count": 54,
   "id": "5ffda772",
   "metadata": {},
   "outputs": [
    {
     "data": {
      "text/plain": [
       "27.5"
      ]
     },
     "execution_count": 54,
     "metadata": {},
     "output_type": "execute_result"
    }
   ],
   "source": [
    "salary.mean()"
   ]
  },
  {
   "cell_type": "code",
   "execution_count": 55,
   "id": "7c04de9d",
   "metadata": {},
   "outputs": [],
   "source": [
    "salary = pd.Series([10,20,30,40,10,55,99999999])"
   ]
  },
  {
   "cell_type": "code",
   "execution_count": 56,
   "id": "96150065",
   "metadata": {},
   "outputs": [
    {
     "data": {
      "text/plain": [
       "14285737.714285715"
      ]
     },
     "execution_count": 56,
     "metadata": {},
     "output_type": "execute_result"
    }
   ],
   "source": [
    "salary.mean()"
   ]
  },
  {
   "cell_type": "code",
   "execution_count": 57,
   "id": "1afc6d80",
   "metadata": {},
   "outputs": [],
   "source": [
    "# Среднее неадекватно отобрадает действительность "
   ]
  },
  {
   "cell_type": "code",
   "execution_count": 59,
   "id": "e033d3aa",
   "metadata": {},
   "outputs": [
    {
     "data": {
      "text/plain": [
       "<Axes: >"
      ]
     },
     "execution_count": 59,
     "metadata": {},
     "output_type": "execute_result"
    },
    {
     "data": {
      "image/png": "[encoded data removed]",
      "text/plain": [
       "<Figure size 640x480 with 1 Axes>"
      ]
     },
     "metadata": {},
     "output_type": "display_data"
    }
   ],
   "source": [
    "salary.hist() # Жирный хвасть (Перекошенное распределение), когда много ребят с маленькой зарплатой и 1 с огромной "
   ]
  },
  {
   "cell_type": "markdown",
   "id": "9dd5aa49",
   "metadata": {},
   "source": [
    "# Медиана "
   ]
  },
  {
   "cell_type": "code",
   "execution_count": 60,
   "id": "3b33430b",
   "metadata": {},
   "outputs": [],
   "source": [
    "salary = pd.Series([10,20,30,40,10,55])"
   ]
  },
  {
   "cell_type": "code",
   "execution_count": 61,
   "id": "2e0a2586",
   "metadata": {},
   "outputs": [
    {
     "data": {
      "text/plain": [
       "25.0"
      ]
     },
     "execution_count": 61,
     "metadata": {},
     "output_type": "execute_result"
    }
   ],
   "source": [
    "salary.median()"
   ]
  },
  {
   "cell_type": "code",
   "execution_count": 66,
   "id": "26222673",
   "metadata": {},
   "outputs": [],
   "source": [
    "salary = pd.Series([10,20,302,40,10,55, 20000000])"
   ]
  },
  {
   "cell_type": "code",
   "execution_count": 67,
   "id": "1b4d5ad2",
   "metadata": {},
   "outputs": [
    {
     "data": {
      "text/plain": [
       "40.0"
      ]
     },
     "execution_count": 67,
     "metadata": {},
     "output_type": "execute_result"
    }
   ],
   "source": [
    "salary.median()"
   ]
  },
  {
   "cell_type": "code",
   "execution_count": 68,
   "id": "b688ae04",
   "metadata": {},
   "outputs": [],
   "source": [
    "# В интуитивном плане она лучше описывает, что происходит "
   ]
  },
  {
   "cell_type": "code",
   "execution_count": 69,
   "id": "a6a8412e",
   "metadata": {},
   "outputs": [
    {
     "data": {
      "text/plain": [
       "0          10\n",
       "4          10\n",
       "1          20\n",
       "3          40\n",
       "5          55\n",
       "2         302\n",
       "6    20000000\n",
       "dtype: int64"
      ]
     },
     "execution_count": 69,
     "metadata": {},
     "output_type": "execute_result"
    }
   ],
   "source": [
    "salary.sort_values()"
   ]
  },
  {
   "cell_type": "code",
   "execution_count": 71,
   "id": "adf7dac3",
   "metadata": {},
   "outputs": [
    {
     "data": {
      "text/plain": [
       "114586.57093898312"
      ]
     },
     "execution_count": 71,
     "metadata": {},
     "output_type": "execute_result"
    }
   ],
   "source": [
    "df[\"income\"].median()"
   ]
  },
  {
   "cell_type": "code",
   "execution_count": 74,
   "id": "1a61a9c3",
   "metadata": {},
   "outputs": [
    {
     "data": {
      "text/plain": [
       "0.5"
      ]
     },
     "execution_count": 74,
     "metadata": {},
     "output_type": "execute_result"
    }
   ],
   "source": [
    "(df[\"income\"] < df[\"income\"].median()).mean()"
   ]
  },
  {
   "cell_type": "code",
   "execution_count": 75,
   "id": "1ea82ad3",
   "metadata": {},
   "outputs": [
    {
     "data": {
      "text/html": [
       "<div>\n",
       "<style scoped>\n",
       "    .dataframe tbody tr th:only-of-type {\n",
       "        vertical-align: middle;\n",
       "    }\n",
       "\n",
       "    .dataframe tbody tr th {\n",
       "        vertical-align: top;\n",
       "    }\n",
       "\n",
       "    .dataframe thead th {\n",
       "        text-align: right;\n",
       "    }\n",
       "</style>\n",
       "<table border=\"1\" class=\"dataframe\">\n",
       "  <thead>\n",
       "    <tr style=\"text-align: right;\">\n",
       "      <th></th>\n",
       "      <th>age</th>\n",
       "      <th>number_of_children</th>\n",
       "      <th>income</th>\n",
       "      <th>age_bin</th>\n",
       "    </tr>\n",
       "  </thead>\n",
       "  <tbody>\n",
       "    <tr>\n",
       "      <th>0</th>\n",
       "      <td>42.772420</td>\n",
       "      <td>0</td>\n",
       "      <td>34396.537188</td>\n",
       "      <td>(40.743, 45.401]</td>\n",
       "    </tr>\n",
       "    <tr>\n",
       "      <th>1</th>\n",
       "      <td>29.561090</td>\n",
       "      <td>0</td>\n",
       "      <td>183350.052521</td>\n",
       "      <td>(26.766, 31.425]</td>\n",
       "    </tr>\n",
       "    <tr>\n",
       "      <th>2</th>\n",
       "      <td>54.380735</td>\n",
       "      <td>0</td>\n",
       "      <td>53689.856555</td>\n",
       "      <td>(50.06, 54.719]</td>\n",
       "    </tr>\n",
       "    <tr>\n",
       "      <th>3</th>\n",
       "      <td>42.551689</td>\n",
       "      <td>0</td>\n",
       "      <td>109080.913926</td>\n",
       "      <td>(40.743, 45.401]</td>\n",
       "    </tr>\n",
       "    <tr>\n",
       "      <th>4</th>\n",
       "      <td>38.713080</td>\n",
       "      <td>0</td>\n",
       "      <td>153612.343419</td>\n",
       "      <td>(36.084, 40.743]</td>\n",
       "    </tr>\n",
       "  </tbody>\n",
       "</table>\n",
       "</div>"
      ],
      "text/plain": [
       "         age  number_of_children         income           age_bin\n",
       "0  42.772420                   0   34396.537188  (40.743, 45.401]\n",
       "1  29.561090                   0  183350.052521  (26.766, 31.425]\n",
       "2  54.380735                   0   53689.856555   (50.06, 54.719]\n",
       "3  42.551689                   0  109080.913926  (40.743, 45.401]\n",
       "4  38.713080                   0  153612.343419  (36.084, 40.743]"
      ]
     },
     "execution_count": 75,
     "metadata": {},
     "output_type": "execute_result"
    }
   ],
   "source": [
    "df.head()"
   ]
  },
  {
   "cell_type": "code",
   "execution_count": 78,
   "id": "c4dfc907",
   "metadata": {},
   "outputs": [
    {
     "data": {
      "text/plain": [
       "0    0\n",
       "Name: number_of_children, dtype: int64"
      ]
     },
     "execution_count": 78,
     "metadata": {},
     "output_type": "execute_result"
    }
   ],
   "source": [
    "df[\"number_of_children\"].mode()"
   ]
  },
  {
   "cell_type": "code",
   "execution_count": 79,
   "id": "8ea88d1d",
   "metadata": {},
   "outputs": [
    {
     "data": {
      "text/plain": [
       "0      17.448452\n",
       "1      17.945699\n",
       "2      18.221844\n",
       "3      18.245730\n",
       "4      18.327301\n",
       "         ...    \n",
       "995    60.340166\n",
       "996    60.649527\n",
       "997    61.924505\n",
       "998    63.789406\n",
       "999    64.036559\n",
       "Name: age, Length: 1000, dtype: float64"
      ]
     },
     "execution_count": 79,
     "metadata": {},
     "output_type": "execute_result"
    }
   ],
   "source": [
    "df[\"age\"].mode()"
   ]
  },
  {
   "cell_type": "code",
   "execution_count": 85,
   "id": "d18d4a02",
   "metadata": {},
   "outputs": [
    {
     "data": {
      "text/plain": [
       "mean      129415.746378\n",
       "median    114586.570939\n",
       "Name: income, dtype: float64"
      ]
     },
     "execution_count": 85,
     "metadata": {},
     "output_type": "execute_result"
    }
   ],
   "source": [
    "df[\"income\"].agg([\"mean\", \"median\"])"
   ]
  },
  {
   "cell_type": "code",
   "execution_count": 86,
   "id": "756af3ea",
   "metadata": {},
   "outputs": [
    {
     "data": {
      "text/plain": [
       "<Axes: >"
      ]
     },
     "execution_count": 86,
     "metadata": {},
     "output_type": "execute_result"
    },
    {
     "data": {
      "image/png": "[encoded data removed]",
      "text/plain": [
       "<Figure size 640x480 with 1 Axes>"
      ]
     },
     "metadata": {},
     "output_type": "display_data"
    }
   ],
   "source": [
    "df[\"income\"].hist()"
   ]
  },
  {
   "cell_type": "code",
   "execution_count": 89,
   "id": "caddb3cd",
   "metadata": {},
   "outputs": [
    {
     "data": {
      "text/plain": [
       "0.5"
      ]
     },
     "execution_count": 89,
     "metadata": {},
     "output_type": "execute_result"
    }
   ],
   "source": [
    "(df[\"income\"] < 114586).mean()"
   ]
  },
  {
   "cell_type": "code",
   "execution_count": 90,
   "id": "601d7fa7",
   "metadata": {},
   "outputs": [
    {
     "data": {
      "text/plain": [
       "0.397"
      ]
     },
     "execution_count": 90,
     "metadata": {},
     "output_type": "execute_result"
    }
   ],
   "source": [
    "(df[\"income\"] < 100000).mean() # Процентиль  "
   ]
  },
  {
   "cell_type": "code",
   "execution_count": 92,
   "id": "e007b4df",
   "metadata": {},
   "outputs": [
    {
     "data": {
      "text/plain": [
       "100512.68685217279"
      ]
     },
     "execution_count": 92,
     "metadata": {},
     "output_type": "execute_result"
    }
   ],
   "source": [
    "df['income'].quantile(0.4) # 40 Квантиль  "
   ]
  },
  {
   "cell_type": "code",
   "execution_count": 93,
   "id": "645401d8",
   "metadata": {},
   "outputs": [
    {
     "data": {
      "text/plain": [
       "0.4"
      ]
     },
     "execution_count": 93,
     "metadata": {},
     "output_type": "execute_result"
    }
   ],
   "source": [
    "(df[\"income\"] < df['income'].quantile(0.4)).mean() # Процентиль  "
   ]
  },
  {
   "cell_type": "code",
   "execution_count": 94,
   "id": "9439bb7e",
   "metadata": {},
   "outputs": [
    {
     "data": {
      "text/plain": [
       "86626.68913102671"
      ]
     },
     "execution_count": 94,
     "metadata": {},
     "output_type": "execute_result"
    }
   ],
   "source": [
    "df['income'].quantile(0.3)   "
   ]
  },
  {
   "cell_type": "code",
   "execution_count": 96,
   "id": "3745f8c4",
   "metadata": {},
   "outputs": [
    {
     "data": {
      "text/plain": [
       "58377.17440989983"
      ]
     },
     "execution_count": 96,
     "metadata": {},
     "output_type": "execute_result"
    }
   ],
   "source": [
    "df['income'].quantile(0.1)"
   ]
  },
  {
   "cell_type": "code",
   "execution_count": 97,
   "id": "534f1c6c",
   "metadata": {},
   "outputs": [
    {
     "data": {
      "text/plain": [
       "79594.0403996465"
      ]
     },
     "execution_count": 97,
     "metadata": {},
     "output_type": "execute_result"
    }
   ],
   "source": [
    "df['income'].quantile(0.25) # Первый квартиль"
   ]
  },
  {
   "cell_type": "code",
   "execution_count": 98,
   "id": "632d3ce5",
   "metadata": {},
   "outputs": [
    {
     "data": {
      "text/plain": [
       "114586.57093898312"
      ]
     },
     "execution_count": 98,
     "metadata": {},
     "output_type": "execute_result"
    }
   ],
   "source": [
    "df['income'].quantile(0.5) # Первый квартиль и является медианой"
   ]
  },
  {
   "cell_type": "code",
   "execution_count": 99,
   "id": "af5b622c",
   "metadata": {},
   "outputs": [
    {
     "data": {
      "text/plain": [
       "162888.8910808624"
      ]
     },
     "execution_count": 99,
     "metadata": {},
     "output_type": "execute_result"
    }
   ],
   "source": [
    "df['income'].quantile(0.75) # Третий квартиль"
   ]
  },
  {
   "cell_type": "code",
   "execution_count": 100,
   "id": "a50c0ef0",
   "metadata": {},
   "outputs": [
    {
     "data": {
      "text/plain": [
       "0    0.639\n",
       "1    0.257\n",
       "2    0.936\n",
       "3    0.634\n",
       "4    0.521\n",
       "Name: age, dtype: float64"
      ]
     },
     "execution_count": 100,
     "metadata": {},
     "output_type": "execute_result"
    }
   ],
   "source": [
    "df[\"age\"].rank(pct=True).head() # Проставление для каждоо"
   ]
  },
  {
   "cell_type": "code",
   "execution_count": 101,
   "id": "058839c5",
   "metadata": {},
   "outputs": [],
   "source": [
    "df[\"pct\"] = df[\"age\"].rank(pct=True)"
   ]
  },
  {
   "cell_type": "code",
   "execution_count": 103,
   "id": "a9373ae1",
   "metadata": {},
   "outputs": [
    {
     "data": {
      "text/html": [
       "<div>\n",
       "<style scoped>\n",
       "    .dataframe tbody tr th:only-of-type {\n",
       "        vertical-align: middle;\n",
       "    }\n",
       "\n",
       "    .dataframe tbody tr th {\n",
       "        vertical-align: top;\n",
       "    }\n",
       "\n",
       "    .dataframe thead th {\n",
       "        text-align: right;\n",
       "    }\n",
       "</style>\n",
       "<table border=\"1\" class=\"dataframe\">\n",
       "  <thead>\n",
       "    <tr style=\"text-align: right;\">\n",
       "      <th></th>\n",
       "      <th>age</th>\n",
       "      <th>number_of_children</th>\n",
       "      <th>income</th>\n",
       "      <th>age_bin</th>\n",
       "      <th>pct</th>\n",
       "    </tr>\n",
       "  </thead>\n",
       "  <tbody>\n",
       "    <tr>\n",
       "      <th>0</th>\n",
       "      <td>42.772420</td>\n",
       "      <td>0</td>\n",
       "      <td>34396.537188</td>\n",
       "      <td>(40.743, 45.401]</td>\n",
       "      <td>0.639</td>\n",
       "    </tr>\n",
       "    <tr>\n",
       "      <th>1</th>\n",
       "      <td>29.561090</td>\n",
       "      <td>0</td>\n",
       "      <td>183350.052521</td>\n",
       "      <td>(26.766, 31.425]</td>\n",
       "      <td>0.257</td>\n",
       "    </tr>\n",
       "    <tr>\n",
       "      <th>2</th>\n",
       "      <td>54.380735</td>\n",
       "      <td>0</td>\n",
       "      <td>53689.856555</td>\n",
       "      <td>(50.06, 54.719]</td>\n",
       "      <td>0.936</td>\n",
       "    </tr>\n",
       "    <tr>\n",
       "      <th>3</th>\n",
       "      <td>42.551689</td>\n",
       "      <td>0</td>\n",
       "      <td>109080.913926</td>\n",
       "      <td>(40.743, 45.401]</td>\n",
       "      <td>0.634</td>\n",
       "    </tr>\n",
       "    <tr>\n",
       "      <th>4</th>\n",
       "      <td>38.713080</td>\n",
       "      <td>0</td>\n",
       "      <td>153612.343419</td>\n",
       "      <td>(36.084, 40.743]</td>\n",
       "      <td>0.521</td>\n",
       "    </tr>\n",
       "  </tbody>\n",
       "</table>\n",
       "</div>"
      ],
      "text/plain": [
       "         age  number_of_children         income           age_bin    pct\n",
       "0  42.772420                   0   34396.537188  (40.743, 45.401]  0.639\n",
       "1  29.561090                   0  183350.052521  (26.766, 31.425]  0.257\n",
       "2  54.380735                   0   53689.856555   (50.06, 54.719]  0.936\n",
       "3  42.551689                   0  109080.913926  (40.743, 45.401]  0.634\n",
       "4  38.713080                   0  153612.343419  (36.084, 40.743]  0.521"
      ]
     },
     "execution_count": 103,
     "metadata": {},
     "output_type": "execute_result"
    }
   ],
   "source": [
    "df.head()"
   ]
  },
  {
   "cell_type": "code",
   "execution_count": 104,
   "id": "21a48a11",
   "metadata": {},
   "outputs": [
    {
     "data": {
      "text/plain": [
       "0.638"
      ]
     },
     "execution_count": 104,
     "metadata": {},
     "output_type": "execute_result"
    }
   ],
   "source": [
    "(df[\"age\"] < 42.772420).mean() # 64% моложе, чем человек возрваста 42.77"
   ]
  },
  {
   "cell_type": "code",
   "execution_count": 105,
   "id": "76f2675b",
   "metadata": {},
   "outputs": [
    {
     "data": {
      "text/plain": [
       "<Axes: >"
      ]
     },
     "execution_count": 105,
     "metadata": {},
     "output_type": "execute_result"
    },
    {
     "data": {
      "image/png": "[encoded data removed]",
      "text/plain": [
       "<Figure size 640x480 with 1 Axes>"
      ]
     },
     "metadata": {},
     "output_type": "display_data"
    }
   ],
   "source": [
    "df.boxplot(\"age\")"
   ]
  },
  {
   "cell_type": "code",
   "execution_count": 107,
   "id": "d301ee9a",
   "metadata": {},
   "outputs": [],
   "source": [
    "# Нижняя граница коробки - первый квартиль 25% \n",
    "# Средняя граница коробки - медиана 50% \n",
    "# Верхний граница короьки - третий квартиль 75%"
   ]
  },
  {
   "cell_type": "code",
   "execution_count": 108,
   "id": "119d5183",
   "metadata": {},
   "outputs": [
    {
     "data": {
      "text/plain": [
       "<Axes: >"
      ]
     },
     "execution_count": 108,
     "metadata": {},
     "output_type": "execute_result"
    },
    {
     "data": {
      "image/png": "[encoded data removed]",
      "text/plain": [
       "<Figure size 640x480 with 1 Axes>"
      ]
     },
     "metadata": {},
     "output_type": "display_data"
    }
   ],
   "source": [
    "df.boxplot(\"income\")"
   ]
  },
  {
   "cell_type": "code",
   "execution_count": 109,
   "id": "8e218823",
   "metadata": {},
   "outputs": [
    {
     "data": {
      "text/plain": [
       "<Axes: >"
      ]
     },
     "execution_count": 109,
     "metadata": {},
     "output_type": "execute_result"
    },
    {
     "data": {
      "image/png": "[encoded data removed]",
      "text/plain": [
       "<Figure size 640x480 with 1 Axes>"
      ]
     },
     "metadata": {},
     "output_type": "display_data"
    }
   ],
   "source": [
    "sns.boxplot(df[\"income\"])"
   ]
  },
  {
   "cell_type": "code",
   "execution_count": 110,
   "id": "6451e75d",
   "metadata": {},
   "outputs": [
    {
     "data": {
      "text/plain": [
       "<Axes: >"
      ]
     },
     "execution_count": 110,
     "metadata": {},
     "output_type": "execute_result"
    },
    {
     "data": {
      "image/png": "[encoded data removed]",
      "text/plain": [
       "<Figure size 640x480 with 1 Axes>"
      ]
     },
     "metadata": {},
     "output_type": "display_data"
    }
   ],
   "source": [
    "df[\"income\"].hist()"
   ]
  },
  {
   "cell_type": "code",
   "execution_count": 112,
   "id": "8e32c413",
   "metadata": {},
   "outputs": [
    {
     "data": {
      "text/plain": [
       "count      1000.000000\n",
       "mean     129415.746378\n",
       "std       71251.620971\n",
       "min       21943.855414\n",
       "25%       79594.040400\n",
       "50%      114586.570939\n",
       "75%      162888.891081\n",
       "max      678006.351857\n",
       "Name: income, dtype: float64"
      ]
     },
     "execution_count": 112,
     "metadata": {},
     "output_type": "execute_result"
    }
   ],
   "source": [
    "df[\"income\"].describe()"
   ]
  },
  {
   "cell_type": "markdown",
   "id": "c676cc04",
   "metadata": {},
   "source": [
    "# Стандартная мера"
   ]
  },
  {
   "cell_type": "markdown",
   "id": "5ada217a",
   "metadata": {},
   "source": [
    "Стандартное отклонение по \"income\""
   ]
  },
  {
   "cell_type": "code",
   "execution_count": 114,
   "id": "10f89f0f",
   "metadata": {},
   "outputs": [],
   "source": [
    "pd.options.display.max_rows = 100"
   ]
  },
  {
   "cell_type": "code",
   "execution_count": 115,
   "id": "b45df024",
   "metadata": {},
   "outputs": [
    {
     "data": {
      "text/plain": [
       "129415.74637843431"
      ]
     },
     "execution_count": 115,
     "metadata": {},
     "output_type": "execute_result"
    }
   ],
   "source": [
    "df[\"income\"].mean()"
   ]
  },
  {
   "cell_type": "code",
   "execution_count": 116,
   "id": "09762d78",
   "metadata": {},
   "outputs": [
    {
     "data": {
      "text/plain": [
       "0     -95019.209190\n",
       "1      53934.306143\n",
       "2     -75725.889823\n",
       "3     -20334.832452\n",
       "4      24196.597041\n",
       "           ...     \n",
       "995     -767.823506\n",
       "996   -62211.214705\n",
       "997    10017.011605\n",
       "998     8110.705955\n",
       "999    19033.514759\n",
       "Name: income, Length: 1000, dtype: float64"
      ]
     },
     "execution_count": 116,
     "metadata": {},
     "output_type": "execute_result"
    }
   ],
   "source": [
    "df[\"income\"] - df[\"income\"].mean()"
   ]
  },
  {
   "cell_type": "code",
   "execution_count": 118,
   "id": "d458ff8b",
   "metadata": {},
   "outputs": [
    {
     "data": {
      "text/plain": [
       "<Axes: >"
      ]
     },
     "execution_count": 118,
     "metadata": {},
     "output_type": "execute_result"
    },
    {
     "data": {
      "image/png": "[encoded data removed]",
      "text/plain": [
       "<Figure size 640x480 with 1 Axes>"
      ]
     },
     "metadata": {},
     "output_type": "display_data"
    }
   ],
   "source": [
    "(df[\"income\"] - df[\"income\"].mean()).hist()"
   ]
  },
  {
   "cell_type": "code",
   "execution_count": 121,
   "id": "66ba544a",
   "metadata": {},
   "outputs": [
    {
     "data": {
      "text/plain": [
       "5.1222741603851315e-12"
      ]
     },
     "execution_count": 121,
     "metadata": {},
     "output_type": "execute_result"
    }
   ],
   "source": [
    "(df[\"income\"] - df[\"income\"].mean()).mean()"
   ]
  },
  {
   "cell_type": "code",
   "execution_count": 123,
   "id": "ab12102a",
   "metadata": {},
   "outputs": [],
   "source": [
    "pd.set_option('display.float_format', lambda x: '%.3f' % x) # pd.set_option('display.float_format', lambda x: '%.3f' % x)"
   ]
  },
  {
   "cell_type": "code",
   "execution_count": 124,
   "id": "537661ae",
   "metadata": {},
   "outputs": [
    {
     "data": {
      "text/plain": [
       "0     95019.209\n",
       "1     53934.306\n",
       "2     75725.890\n",
       "3     20334.832\n",
       "4     24196.597\n",
       "         ...   \n",
       "995     767.824\n",
       "996   62211.215\n",
       "997   10017.012\n",
       "998    8110.706\n",
       "999   19033.515\n",
       "Name: income, Length: 1000, dtype: float64"
      ]
     },
     "execution_count": 124,
     "metadata": {},
     "output_type": "execute_result"
    }
   ],
   "source": [
    "(df[\"income\"] - df[\"income\"].mean()).abs()"
   ]
  },
  {
   "cell_type": "code",
   "execution_count": 126,
   "id": "087c1a79",
   "metadata": {},
   "outputs": [
    {
     "data": {
      "text/plain": [
       "count     1000.000\n",
       "mean    129415.746\n",
       "std      71251.621\n",
       "min      21943.855\n",
       "25%      79594.040\n",
       "50%     114586.571\n",
       "75%     162888.891\n",
       "max     678006.352\n",
       "Name: income, dtype: float64"
      ]
     },
     "execution_count": 126,
     "metadata": {},
     "output_type": "execute_result"
    }
   ],
   "source": [
    "df[\"income\"].describe() # std 71251.621 - Станлдартная мера "
   ]
  },
  {
   "cell_type": "markdown",
   "id": "267f2a44",
   "metadata": {},
   "source": [
    "# Дисперсия "
   ]
  },
  {
   "cell_type": "code",
   "execution_count": 128,
   "id": "3638005c",
   "metadata": {},
   "outputs": [
    {
     "data": {
      "text/plain": [
       "5071716697.45695"
      ]
     },
     "execution_count": 128,
     "metadata": {},
     "output_type": "execute_result"
    }
   ],
   "source": [
    "((df[\"income\"] - df[\"income\"].mean())**2).mean() # Дисперсия "
   ]
  },
  {
   "cell_type": "markdown",
   "id": "85f8cfcb",
   "metadata": {},
   "source": [
    "# Стандартное отклонение "
   ]
  },
  {
   "cell_type": "markdown",
   "id": "c321336e",
   "metadata": {},
   "source": [
    "Вместо std, лучше использовать std, использовать mau (mean absolute divition) "
   ]
  },
  {
   "cell_type": "code",
   "execution_count": 129,
   "id": "7743200b",
   "metadata": {},
   "outputs": [
    {
     "data": {
      "text/plain": [
       "71215.98624927517"
      ]
     },
     "execution_count": 129,
     "metadata": {},
     "output_type": "execute_result"
    }
   ],
   "source": [
    "np.sqrt(((df[\"income\"] - df[\"income\"].mean())**2).mean())"
   ]
  },
  {
   "cell_type": "markdown",
   "id": "e54c7dc7",
   "metadata": {},
   "source": [
    "Тут нужно не забывать про степени свободы, так как значение может уйти от std\n"
   ]
  },
  {
   "cell_type": "code",
   "execution_count": 134,
   "id": "0a394ee6",
   "metadata": {},
   "outputs": [
    {
     "data": {
      "text/plain": [
       "5076793490.947898"
      ]
     },
     "execution_count": 134,
     "metadata": {},
     "output_type": "execute_result"
    }
   ],
   "source": [
    "((((df[\"income\"] - df[\"income\"].mean())**2)).sum()) / (len(df) - 1)"
   ]
  },
  {
   "cell_type": "code",
   "execution_count": 137,
   "id": "d6963b8d",
   "metadata": {},
   "outputs": [],
   "source": [
    "# Пример стандартного отклонения"
   ]
  },
  {
   "cell_type": "code",
   "execution_count": 138,
   "id": "05f43d60",
   "metadata": {},
   "outputs": [
    {
     "data": {
      "text/plain": [
       "71251.62097066913"
      ]
     },
     "execution_count": 138,
     "metadata": {},
     "output_type": "execute_result"
    }
   ],
   "source": [
    "np.sqrt(((((df[\"income\"] - df[\"income\"].mean())**2)).sum()) / (len(df) - 1))"
   ]
  },
  {
   "cell_type": "code",
   "execution_count": 143,
   "id": "7bfa0507",
   "metadata": {},
   "outputs": [
    {
     "data": {
      "text/plain": [
       "5071716697.45695"
      ]
     },
     "execution_count": 143,
     "metadata": {},
     "output_type": "execute_result"
    }
   ],
   "source": [
    "((df[\"income\"] - df[\"income\"].mean())**2).abs().mean()"
   ]
  },
  {
   "cell_type": "code",
   "execution_count": 144,
   "id": "3fa5546f",
   "metadata": {},
   "outputs": [
    {
     "data": {
      "text/plain": [
       "<Axes: >"
      ]
     },
     "execution_count": 144,
     "metadata": {},
     "output_type": "execute_result"
    },
    {
     "data": {
      "image/png": "[encoded data removed]",
      "text/plain": [
       "<Figure size 640x480 with 1 Axes>"
      ]
     },
     "metadata": {},
     "output_type": "display_data"
    }
   ],
   "source": [
    "df[\"income\"].hist()"
   ]
  },
  {
   "cell_type": "code",
   "execution_count": 146,
   "id": "73b25266",
   "metadata": {},
   "outputs": [
    {
     "data": {
      "text/html": [
       "<div>\n",
       "<style scoped>\n",
       "    .dataframe tbody tr th:only-of-type {\n",
       "        vertical-align: middle;\n",
       "    }\n",
       "\n",
       "    .dataframe tbody tr th {\n",
       "        vertical-align: top;\n",
       "    }\n",
       "\n",
       "    .dataframe thead th {\n",
       "        text-align: right;\n",
       "    }\n",
       "</style>\n",
       "<table border=\"1\" class=\"dataframe\">\n",
       "  <thead>\n",
       "    <tr style=\"text-align: right;\">\n",
       "      <th></th>\n",
       "      <th>age</th>\n",
       "      <th>income</th>\n",
       "    </tr>\n",
       "  </thead>\n",
       "  <tbody>\n",
       "    <tr>\n",
       "      <th>age</th>\n",
       "      <td>1.000</td>\n",
       "      <td>-0.048</td>\n",
       "    </tr>\n",
       "    <tr>\n",
       "      <th>income</th>\n",
       "      <td>-0.048</td>\n",
       "      <td>1.000</td>\n",
       "    </tr>\n",
       "  </tbody>\n",
       "</table>\n",
       "</div>"
      ],
      "text/plain": [
       "          age  income\n",
       "age     1.000  -0.048\n",
       "income -0.048   1.000"
      ]
     },
     "execution_count": 146,
     "metadata": {},
     "output_type": "execute_result"
    }
   ],
   "source": [
    "df[[\"age\", \"income\"]].corr()"
   ]
  },
  {
   "cell_type": "code",
   "execution_count": 147,
   "id": "e2d44fb1",
   "metadata": {},
   "outputs": [
    {
     "data": {
      "text/html": [
       "<div>\n",
       "<style scoped>\n",
       "    .dataframe tbody tr th:only-of-type {\n",
       "        vertical-align: middle;\n",
       "    }\n",
       "\n",
       "    .dataframe tbody tr th {\n",
       "        vertical-align: top;\n",
       "    }\n",
       "\n",
       "    .dataframe thead th {\n",
       "        text-align: right;\n",
       "    }\n",
       "</style>\n",
       "<table border=\"1\" class=\"dataframe\">\n",
       "  <thead>\n",
       "    <tr style=\"text-align: right;\">\n",
       "      <th></th>\n",
       "      <th>age</th>\n",
       "      <th>number_of_children</th>\n",
       "      <th>income</th>\n",
       "      <th>age_bin</th>\n",
       "      <th>pct</th>\n",
       "    </tr>\n",
       "  </thead>\n",
       "  <tbody>\n",
       "    <tr>\n",
       "      <th>0</th>\n",
       "      <td>42.772</td>\n",
       "      <td>0</td>\n",
       "      <td>34396.537</td>\n",
       "      <td>(40.743, 45.401]</td>\n",
       "      <td>0.639</td>\n",
       "    </tr>\n",
       "    <tr>\n",
       "      <th>1</th>\n",
       "      <td>29.561</td>\n",
       "      <td>0</td>\n",
       "      <td>183350.053</td>\n",
       "      <td>(26.766, 31.425]</td>\n",
       "      <td>0.257</td>\n",
       "    </tr>\n",
       "    <tr>\n",
       "      <th>2</th>\n",
       "      <td>54.381</td>\n",
       "      <td>0</td>\n",
       "      <td>53689.857</td>\n",
       "      <td>(50.06, 54.719]</td>\n",
       "      <td>0.936</td>\n",
       "    </tr>\n",
       "    <tr>\n",
       "      <th>3</th>\n",
       "      <td>42.552</td>\n",
       "      <td>0</td>\n",
       "      <td>109080.914</td>\n",
       "      <td>(40.743, 45.401]</td>\n",
       "      <td>0.634</td>\n",
       "    </tr>\n",
       "    <tr>\n",
       "      <th>4</th>\n",
       "      <td>38.713</td>\n",
       "      <td>0</td>\n",
       "      <td>153612.343</td>\n",
       "      <td>(36.084, 40.743]</td>\n",
       "      <td>0.521</td>\n",
       "    </tr>\n",
       "  </tbody>\n",
       "</table>\n",
       "</div>"
      ],
      "text/plain": [
       "     age  number_of_children     income           age_bin   pct\n",
       "0 42.772                   0  34396.537  (40.743, 45.401] 0.639\n",
       "1 29.561                   0 183350.053  (26.766, 31.425] 0.257\n",
       "2 54.381                   0  53689.857   (50.06, 54.719] 0.936\n",
       "3 42.552                   0 109080.914  (40.743, 45.401] 0.634\n",
       "4 38.713                   0 153612.343  (36.084, 40.743] 0.521"
      ]
     },
     "execution_count": 147,
     "metadata": {},
     "output_type": "execute_result"
    }
   ],
   "source": [
    "df.head()"
   ]
  },
  {
   "cell_type": "code",
   "execution_count": 158,
   "id": "a29ee63b",
   "metadata": {},
   "outputs": [
    {
     "data": {
      "text/plain": [
       "<Axes: xlabel='age_bin'>"
      ]
     },
     "execution_count": 158,
     "metadata": {},
     "output_type": "execute_result"
    },
    {
     "data": {
      "image/png": "[encoded data removed]",
      "text/plain": [
       "<Figure size 640x480 with 1 Axes>"
      ]
     },
     "metadata": {},
     "output_type": "display_data"
    }
   ],
   "source": [
    "df.groupby(\"age_bin\")[\"income\"].median().plot(rot=45, ylim=0)"
   ]
  },
  {
   "cell_type": "code",
   "execution_count": 160,
   "id": "2f2e7ddd",
   "metadata": {},
   "outputs": [
    {
     "data": {
      "text/html": [
       "<div>\n",
       "<style scoped>\n",
       "    .dataframe tbody tr th:only-of-type {\n",
       "        vertical-align: middle;\n",
       "    }\n",
       "\n",
       "    .dataframe tbody tr th {\n",
       "        vertical-align: top;\n",
       "    }\n",
       "\n",
       "    .dataframe thead th {\n",
       "        text-align: right;\n",
       "    }\n",
       "</style>\n",
       "<table border=\"1\" class=\"dataframe\">\n",
       "  <thead>\n",
       "    <tr style=\"text-align: right;\">\n",
       "      <th></th>\n",
       "      <th>count</th>\n",
       "      <th>median</th>\n",
       "      <th>mean</th>\n",
       "    </tr>\n",
       "    <tr>\n",
       "      <th>age_bin</th>\n",
       "      <th></th>\n",
       "      <th></th>\n",
       "      <th></th>\n",
       "    </tr>\n",
       "  </thead>\n",
       "  <tbody>\n",
       "    <tr>\n",
       "      <th>(17.402, 22.107]</th>\n",
       "      <td>49</td>\n",
       "      <td>88163.527</td>\n",
       "      <td>104319.382</td>\n",
       "    </tr>\n",
       "    <tr>\n",
       "      <th>(22.107, 26.766]</th>\n",
       "      <td>124</td>\n",
       "      <td>125960.906</td>\n",
       "      <td>133775.791</td>\n",
       "    </tr>\n",
       "    <tr>\n",
       "      <th>(26.766, 31.425]</th>\n",
       "      <td>140</td>\n",
       "      <td>114947.477</td>\n",
       "      <td>130575.739</td>\n",
       "    </tr>\n",
       "    <tr>\n",
       "      <th>(31.425, 36.084]</th>\n",
       "      <td>134</td>\n",
       "      <td>118368.874</td>\n",
       "      <td>135654.849</td>\n",
       "    </tr>\n",
       "    <tr>\n",
       "      <th>(36.084, 40.743]</th>\n",
       "      <td>131</td>\n",
       "      <td>128647.923</td>\n",
       "      <td>134457.082</td>\n",
       "    </tr>\n",
       "    <tr>\n",
       "      <th>(40.743, 45.401]</th>\n",
       "      <td>141</td>\n",
       "      <td>123441.921</td>\n",
       "      <td>139697.677</td>\n",
       "    </tr>\n",
       "    <tr>\n",
       "      <th>(45.401, 50.06]</th>\n",
       "      <td>101</td>\n",
       "      <td>122199.047</td>\n",
       "      <td>142814.623</td>\n",
       "    </tr>\n",
       "    <tr>\n",
       "      <th>(50.06, 54.719]</th>\n",
       "      <td>121</td>\n",
       "      <td>95443.104</td>\n",
       "      <td>112563.105</td>\n",
       "    </tr>\n",
       "    <tr>\n",
       "      <th>(54.719, 59.378]</th>\n",
       "      <td>50</td>\n",
       "      <td>91602.735</td>\n",
       "      <td>104040.538</td>\n",
       "    </tr>\n",
       "    <tr>\n",
       "      <th>(59.378, 64.037]</th>\n",
       "      <td>9</td>\n",
       "      <td>78167.926</td>\n",
       "      <td>77761.751</td>\n",
       "    </tr>\n",
       "  </tbody>\n",
       "</table>\n",
       "</div>"
      ],
      "text/plain": [
       "                  count     median       mean\n",
       "age_bin                                      \n",
       "(17.402, 22.107]     49  88163.527 104319.382\n",
       "(22.107, 26.766]    124 125960.906 133775.791\n",
       "(26.766, 31.425]    140 114947.477 130575.739\n",
       "(31.425, 36.084]    134 118368.874 135654.849\n",
       "(36.084, 40.743]    131 128647.923 134457.082\n",
       "(40.743, 45.401]    141 123441.921 139697.677\n",
       "(45.401, 50.06]     101 122199.047 142814.623\n",
       "(50.06, 54.719]     121  95443.104 112563.105\n",
       "(54.719, 59.378]     50  91602.735 104040.538\n",
       "(59.378, 64.037]      9  78167.926  77761.751"
      ]
     },
     "execution_count": 160,
     "metadata": {},
     "output_type": "execute_result"
    }
   ],
   "source": [
    "df.groupby(\"age_bin\")[\"income\"].agg([\"count\", \"median\", \"mean\"])"
   ]
  },
  {
   "cell_type": "code",
   "execution_count": 161,
   "id": "b1f03e81",
   "metadata": {},
   "outputs": [
    {
     "data": {
      "text/plain": [
       "<Axes: xlabel='age', ylabel='income'>"
      ]
     },
     "execution_count": 161,
     "metadata": {},
     "output_type": "execute_result"
    },
    {
     "data": {
      "image/png": "[encoded data removed]",
      "text/plain": [
       "<Figure size 640x480 with 1 Axes>"
      ]
     },
     "metadata": {},
     "output_type": "display_data"
    }
   ],
   "source": [
    "df.plot(x=\"age\", y=\"income\", kind=\"scatter\")"
   ]
  },
  {
   "cell_type": "code",
   "execution_count": 162,
   "id": "db5dab78",
   "metadata": {},
   "outputs": [],
   "source": [
    "# Расположение всех наблюдений "
   ]
  },
  {
   "cell_type": "code",
   "execution_count": 163,
   "id": "3cb10379",
   "metadata": {},
   "outputs": [
    {
     "data": {
      "text/plain": [
       "<Axes: xlabel='number_of_children'>"
      ]
     },
     "execution_count": 163,
     "metadata": {},
     "output_type": "execute_result"
    },
    {
     "data": {
      "image/png": "[encoded data removed]",
      "text/plain": [
       "<Figure size 640x480 with 1 Axes>"
      ]
     },
     "metadata": {},
     "output_type": "display_data"
    }
   ],
   "source": [
    "df.groupby(\"number_of_children\")[\"income\"].median().plot()"
   ]
  },
  {
   "cell_type": "code",
   "execution_count": 164,
   "id": "f9eec001",
   "metadata": {},
   "outputs": [
    {
     "data": {
      "text/plain": [
       "<Axes: xlabel='number_of_children', ylabel='income'>"
      ]
     },
     "execution_count": 164,
     "metadata": {},
     "output_type": "execute_result"
    },
    {
     "data": {
      "image/png": "[encoded data removed]",
      "text/plain": [
       "<Figure size 640x480 with 1 Axes>"
      ]
     },
     "metadata": {},
     "output_type": "display_data"
    }
   ],
   "source": [
    "df.plot(x=\"number_of_children\", y=\"income\", kind=\"scatter\",alpha=0.2)"
   ]
  },
  {
   "cell_type": "code",
   "execution_count": 165,
   "id": "8236b7ac",
   "metadata": {},
   "outputs": [
    {
     "data": {
      "text/plain": [
       "<Axes: title={'center': 'income'}, xlabel='number_of_children'>"
      ]
     },
     "execution_count": 165,
     "metadata": {},
     "output_type": "execute_result"
    },
    {
     "data": {
      "image/png": "[encoded data removed]",
      "text/plain": [
       "<Figure size 640x480 with 1 Axes>"
      ]
     },
     "metadata": {},
     "output_type": "display_data"
    }
   ],
   "source": [
    "df.boxplot(\"income\", by=\"number_of_children\")"
   ]
  },
  {
   "cell_type": "code",
   "execution_count": null,
   "id": "663dcd22",
   "metadata": {},
   "outputs": [],
   "source": []
  }
 ],
 "metadata": {
  "kernelspec": {
   "display_name": "Python 3 (ipykernel)",
   "language": "python",
   "name": "python3"
  },
  "language_info": {
   "codemirror_mode": {
    "name": "ipython",
    "version": 3
   },
   "file_extension": ".py",
   "mimetype": "text/x-python",
   "name": "python",
   "nbconvert_exporter": "python",
   "pygments_lexer": "ipython3",
   "version": "3.10.9"
  }
 },
 "nbformat": 4,
 "nbformat_minor": 5
}
