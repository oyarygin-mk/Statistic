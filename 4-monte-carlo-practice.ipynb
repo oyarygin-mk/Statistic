{
 "cells": [
  {
   "cell_type": "code",
   "execution_count": 2,
   "id": "ee1a2022",
   "metadata": {},
   "outputs": [],
   "source": [
    "import pandas as pd\n",
    "import numpy as np"
   ]
  },
  {
   "cell_type": "code",
   "execution_count": 4,
   "id": "e5d7c911",
   "metadata": {},
   "outputs": [],
   "source": [
    "dice = pd.Series(range(1,7))"
   ]
  },
  {
   "cell_type": "code",
   "execution_count": 7,
   "id": "84f642a7",
   "metadata": {},
   "outputs": [
    {
     "data": {
      "text/plain": [
       "4"
      ]
     },
     "execution_count": 7,
     "metadata": {},
     "output_type": "execute_result"
    }
   ],
   "source": [
    "dice.sample(1).values[0]"
   ]
  },
  {
   "cell_type": "code",
   "execution_count": 8,
   "id": "7d302e1c",
   "metadata": {},
   "outputs": [],
   "source": [
    "rolls = [dice.sample(1).values[0] for _ in range(10000)]"
   ]
  },
  {
   "cell_type": "code",
   "execution_count": 11,
   "id": "cce5f995",
   "metadata": {},
   "outputs": [
    {
     "data": {
      "text/plain": [
       "5    0.1698\n",
       "1    0.1692\n",
       "6    0.1669\n",
       "4    0.1662\n",
       "3    0.1656\n",
       "2    0.1623\n",
       "Name: proportion, dtype: float64"
      ]
     },
     "execution_count": 11,
     "metadata": {},
     "output_type": "execute_result"
    }
   ],
   "source": [
    "pd.Series(rolls).value_counts(normalize=True)"
   ]
  },
  {
   "cell_type": "code",
   "execution_count": 13,
   "id": "19abf1f3",
   "metadata": {},
   "outputs": [
    {
     "data": {
      "text/plain": [
       "1    0.166667\n",
       "2    0.166667\n",
       "3    0.166667\n",
       "4    0.166667\n",
       "5    0.166667\n",
       "6    0.166667\n",
       "Name: proportion, dtype: float64"
      ]
     },
     "execution_count": 13,
     "metadata": {},
     "output_type": "execute_result"
    }
   ],
   "source": [
    "dice.value_counts(normalize=True)"
   ]
  },
  {
   "cell_type": "markdown",
   "id": "bfc30853",
   "metadata": {},
   "source": [
    "# Task 1 \n",
    "Определить вероятность того, что в группе сосоящей из 23 человек, у двух людей будет совпадение дня рождений (число и месяц)  "
   ]
  },
  {
   "cell_type": "code",
   "execution_count": 14,
   "id": "a5666479",
   "metadata": {},
   "outputs": [],
   "source": [
    "bd = pd.Series(range(365))"
   ]
  },
  {
   "cell_type": "code",
   "execution_count": 15,
   "id": "ab2b705a",
   "metadata": {},
   "outputs": [
    {
     "data": {
      "text/plain": [
       "0        0\n",
       "1        1\n",
       "2        2\n",
       "3        3\n",
       "4        4\n",
       "      ... \n",
       "360    360\n",
       "361    361\n",
       "362    362\n",
       "363    363\n",
       "364    364\n",
       "Length: 365, dtype: int64"
      ]
     },
     "execution_count": 15,
     "metadata": {},
     "output_type": "execute_result"
    }
   ],
   "source": [
    "bd"
   ]
  },
  {
   "cell_type": "code",
   "execution_count": 16,
   "id": "7b0273a9",
   "metadata": {},
   "outputs": [
    {
     "data": {
      "text/plain": [
       "356    356\n",
       "354    354\n",
       "364    364\n",
       "18      18\n",
       "281    281\n",
       "354    354\n",
       "172    172\n",
       "121    121\n",
       "168    168\n",
       "83      83\n",
       "129    129\n",
       "157    157\n",
       "214    214\n",
       "10      10\n",
       "160    160\n",
       "88      88\n",
       "271    271\n",
       "130    130\n",
       "267    267\n",
       "288    288\n",
       "165    165\n",
       "153    153\n",
       "46      46\n",
       "dtype: int64"
      ]
     },
     "execution_count": 16,
     "metadata": {},
     "output_type": "execute_result"
    }
   ],
   "source": [
    "bd.sample(23, replace=True) # Генератор команты"
   ]
  },
  {
   "cell_type": "code",
   "execution_count": 24,
   "id": "e4892a3d",
   "metadata": {},
   "outputs": [],
   "source": [
    "t = bd.sample(23, replace=True)"
   ]
  },
  {
   "cell_type": "code",
   "execution_count": 25,
   "id": "284832a8",
   "metadata": {},
   "outputs": [
    {
     "data": {
      "text/plain": [
       "23     False\n",
       "26     False\n",
       "19     False\n",
       "35     False\n",
       "94     False\n",
       "335    False\n",
       "134    False\n",
       "297    False\n",
       "8      False\n",
       "215    False\n",
       "260    False\n",
       "358    False\n",
       "344    False\n",
       "63     False\n",
       "92     False\n",
       "94      True\n",
       "118    False\n",
       "246    False\n",
       "63      True\n",
       "128    False\n",
       "243    False\n",
       "168    False\n",
       "287    False\n",
       "dtype: bool"
      ]
     },
     "execution_count": 25,
     "metadata": {},
     "output_type": "execute_result"
    }
   ],
   "source": [
    "t.duplicated()"
   ]
  },
  {
   "cell_type": "code",
   "execution_count": 26,
   "id": "05d71436",
   "metadata": {},
   "outputs": [
    {
     "data": {
      "text/plain": [
       "True"
      ]
     },
     "execution_count": 26,
     "metadata": {},
     "output_type": "execute_result"
    }
   ],
   "source": [
    "t.duplicated().max()"
   ]
  },
  {
   "cell_type": "code",
   "execution_count": 32,
   "id": "af1cc99c",
   "metadata": {},
   "outputs": [],
   "source": [
    "rooms = [bd.sample(23, replace=True).duplicated().max() for _ in range(10000)]"
   ]
  },
  {
   "cell_type": "code",
   "execution_count": 33,
   "id": "64fc025f",
   "metadata": {},
   "outputs": [
    {
     "data": {
      "text/plain": [
       "0.5099"
      ]
     },
     "execution_count": 33,
     "metadata": {},
     "output_type": "execute_result"
    }
   ],
   "source": [
    "np.mean(rooms)"
   ]
  },
  {
   "cell_type": "code",
   "execution_count": 34,
   "id": "ea167f26",
   "metadata": {},
   "outputs": [],
   "source": [
    "rooms = [bd.sample(57, replace=True).duplicated().max() for _ in range(10000)]"
   ]
  },
  {
   "cell_type": "code",
   "execution_count": 35,
   "id": "ddd0035b",
   "metadata": {},
   "outputs": [
    {
     "data": {
      "text/plain": [
       "0.9891"
      ]
     },
     "execution_count": 35,
     "metadata": {},
     "output_type": "execute_result"
    }
   ],
   "source": [
    "np.mean(rooms)"
   ]
  },
  {
   "cell_type": "markdown",
   "id": "2d2776a6",
   "metadata": {},
   "source": [
    "# Task 2 \n",
    "Экзамен проходит по следующей схеме: если некоторый билет уже был вытянут, то после ответа экзаменатор откладывает его в сторону. Студент выучил 20 билетов из 30. Когда ему выгоднее идти, первым или вторым, чтобы вероятность вынуть выученный билет была больше?"
   ]
  },
  {
   "cell_type": "code",
   "execution_count": 37,
   "id": "464989fe",
   "metadata": {},
   "outputs": [],
   "source": [
    "tickets = list(range(1,31))"
   ]
  },
  {
   "cell_type": "code",
   "execution_count": 38,
   "id": "0e9f1f47",
   "metadata": {},
   "outputs": [
    {
     "data": {
      "text/plain": [
       "[1,\n",
       " 2,\n",
       " 3,\n",
       " 4,\n",
       " 5,\n",
       " 6,\n",
       " 7,\n",
       " 8,\n",
       " 9,\n",
       " 10,\n",
       " 11,\n",
       " 12,\n",
       " 13,\n",
       " 14,\n",
       " 15,\n",
       " 16,\n",
       " 17,\n",
       " 18,\n",
       " 19,\n",
       " 20,\n",
       " 21,\n",
       " 22,\n",
       " 23,\n",
       " 24,\n",
       " 25,\n",
       " 26,\n",
       " 27,\n",
       " 28,\n",
       " 29,\n",
       " 30]"
      ]
     },
     "execution_count": 38,
     "metadata": {},
     "output_type": "execute_result"
    }
   ],
   "source": [
    "tickets"
   ]
  },
  {
   "cell_type": "code",
   "execution_count": 39,
   "id": "6cc3f395",
   "metadata": {},
   "outputs": [],
   "source": [
    "student = list(range(1,21))"
   ]
  },
  {
   "cell_type": "code",
   "execution_count": 40,
   "id": "37e89fc8",
   "metadata": {},
   "outputs": [
    {
     "data": {
      "text/plain": [
       "[1, 2, 3, 4, 5, 6, 7, 8, 9, 10, 11, 12, 13, 14, 15, 16, 17, 18, 19, 20]"
      ]
     },
     "execution_count": 40,
     "metadata": {},
     "output_type": "execute_result"
    }
   ],
   "source": [
    "student"
   ]
  },
  {
   "cell_type": "code",
   "execution_count": 43,
   "id": "01a12658",
   "metadata": {},
   "outputs": [],
   "source": [
    "from random import shuffle"
   ]
  },
  {
   "cell_type": "code",
   "execution_count": 44,
   "id": "30cbf2f2",
   "metadata": {},
   "outputs": [],
   "source": [
    "shuffle(tickets) "
   ]
  },
  {
   "cell_type": "code",
   "execution_count": 45,
   "id": "70b13a4c",
   "metadata": {},
   "outputs": [
    {
     "data": {
      "text/plain": [
       "[4,\n",
       " 28,\n",
       " 30,\n",
       " 14,\n",
       " 21,\n",
       " 23,\n",
       " 19,\n",
       " 26,\n",
       " 12,\n",
       " 1,\n",
       " 16,\n",
       " 13,\n",
       " 2,\n",
       " 7,\n",
       " 20,\n",
       " 25,\n",
       " 29,\n",
       " 5,\n",
       " 8,\n",
       " 3,\n",
       " 27,\n",
       " 15,\n",
       " 17,\n",
       " 11,\n",
       " 18,\n",
       " 9,\n",
       " 6,\n",
       " 24,\n",
       " 10,\n",
       " 22]"
      ]
     },
     "execution_count": 45,
     "metadata": {},
     "output_type": "execute_result"
    }
   ],
   "source": [
    "tickets"
   ]
  },
  {
   "cell_type": "code",
   "execution_count": 54,
   "id": "570d3dce",
   "metadata": {},
   "outputs": [
    {
     "data": {
      "text/plain": [
       "True"
      ]
     },
     "execution_count": 54,
     "metadata": {},
     "output_type": "execute_result"
    }
   ],
   "source": [
    "4 in student"
   ]
  },
  {
   "cell_type": "code",
   "execution_count": 51,
   "id": "ab8cd2e6",
   "metadata": {},
   "outputs": [],
   "source": [
    "n = 1000\n",
    "student = list(range(1,21))\n",
    "tickets = list(range(1,31))\n",
    "result = []\n",
    "\n",
    "for _ in range(n):\n",
    "    shuffle(tickets)\n",
    "    result.append((tickets[0] in student))"
   ]
  },
  {
   "cell_type": "code",
   "execution_count": 52,
   "id": "a8c1908d",
   "metadata": {},
   "outputs": [
    {
     "data": {
      "text/plain": [
       "0.657"
      ]
     },
     "execution_count": 52,
     "metadata": {},
     "output_type": "execute_result"
    }
   ],
   "source": [
    "np.mean(result)"
   ]
  },
  {
   "cell_type": "code",
   "execution_count": 53,
   "id": "ab3ce5df",
   "metadata": {},
   "outputs": [
    {
     "data": {
      "text/plain": [
       "0.6666666666666666"
      ]
     },
     "execution_count": 53,
     "metadata": {},
     "output_type": "execute_result"
    }
   ],
   "source": [
    "20 / 30 "
   ]
  },
  {
   "cell_type": "markdown",
   "id": "5f796f25",
   "metadata": {},
   "source": [
    "# Task 3"
   ]
  },
  {
   "cell_type": "markdown",
   "id": "04b4c6ce",
   "metadata": {},
   "source": [
    "Ночью произошло ДТП с участием такси. В городе работают две компании такси — «Синие» и «Зелёные». «Зелёным» принадлежит 85% такси, «Синим» 15%. Свидетель аварии утверждает, что такси принадлежало «Синим». Следственный эксперимент показал, что ночью свидетель верно определяет цвет такси в 80%. Какова вероятность того, что такси действительно принадлежало «Синим»?"
   ]
  },
  {
   "cell_type": "code",
   "execution_count": 56,
   "id": "981c2c80",
   "metadata": {},
   "outputs": [
    {
     "data": {
      "text/plain": [
       "1"
      ]
     },
     "execution_count": 56,
     "metadata": {},
     "output_type": "execute_result"
    }
   ],
   "source": [
    "np.random.binomial(1, 0.15)"
   ]
  },
  {
   "cell_type": "code",
   "execution_count": 59,
   "id": "8274ad60",
   "metadata": {},
   "outputs": [],
   "source": [
    "def wintess(taxi):\n",
    "    if np.random.binomial(1, 0.8):\n",
    "        return taxi;\n",
    "    return abs(taxi - 1)"
   ]
  },
  {
   "cell_type": "code",
   "execution_count": 68,
   "id": "d6054506",
   "metadata": {},
   "outputs": [],
   "source": [
    "n = 10000\n",
    "result = []\n",
    "for _ in range(1000):\n",
    "    taxi = np.random.binomial(1, 0.15)\n",
    "    wintess_answer = wintess(taxi)\n",
    "    result.append((taxi, wintess_answer))"
   ]
  },
  {
   "cell_type": "code",
   "execution_count": 72,
   "id": "a6b09946",
   "metadata": {},
   "outputs": [],
   "source": [
    "t = pd.DataFrame(result, columns=[\"taxi\", \"witness_answer\"])"
   ]
  },
  {
   "cell_type": "code",
   "execution_count": 76,
   "id": "1f7a064a",
   "metadata": {},
   "outputs": [
    {
     "data": {
      "text/plain": [
       "witness_answer\n",
       "0    0.044138\n",
       "1    0.407273\n",
       "Name: taxi, dtype: float64"
      ]
     },
     "execution_count": 76,
     "metadata": {},
     "output_type": "execute_result"
    }
   ],
   "source": [
    "t.groupby(\"witness_answer\")[\"taxi\"].mean()"
   ]
  },
  {
   "cell_type": "markdown",
   "id": "2685dae1",
   "metadata": {},
   "source": [
    "# Task 4"
   ]
  },
  {
   "cell_type": "markdown",
   "id": "fea8eb87",
   "metadata": {},
   "source": [
    "Задача. Русская рулетка. Есть револьвер с 2 вставленными подряд патронами..⁠⁠\n",
    ".. первый крутит барабан и стреляет и остается жив. Твоя очередь: тебе предлагает покрутить барабан перед выстрелом. Согласишься или сразу выстрелишь и почему?\n",
    "Задача. Русская рулетка. Есть револьвер с 2 вставленными подряд патронами.. .. первый крутит барабан и стреляет и остается жив. Твоя очередь: тебе предлагает покрутить барабан перед выстрелом. Согласишься или сразу выстрелишь и почему?\n"
   ]
  },
  {
   "cell_type": "code",
   "execution_count": 78,
   "id": "02c35090",
   "metadata": {},
   "outputs": [],
   "source": [
    "chamber = [1,1,0,0,0,0]"
   ]
  },
  {
   "cell_type": "code",
   "execution_count": 82,
   "id": "4e489295",
   "metadata": {},
   "outputs": [],
   "source": [
    "def one_turn(chamber):\n",
    "    new_chamber = [0,0,0,0,0,0]\n",
    "    n = len(chamber)\n",
    "    for i in range(0, len(chamber)):\n",
    "        if (i< n-1):\n",
    "            new_chamber[i + 1] = chamber[i]\n",
    "        else:\n",
    "            new_chamber[0] = chamber[i] \n",
    "    return new_chamber"
   ]
  },
  {
   "cell_type": "code",
   "execution_count": 83,
   "id": "a12d4297",
   "metadata": {},
   "outputs": [],
   "source": [
    "chamber = [1,1,0,0,0]"
   ]
  },
  {
   "cell_type": "code",
   "execution_count": 84,
   "id": "12338b0c",
   "metadata": {},
   "outputs": [
    {
     "data": {
      "text/plain": [
       "[0, 1, 1, 1, 0, 0]"
      ]
     },
     "execution_count": 84,
     "metadata": {},
     "output_type": "execute_result"
    }
   ],
   "source": [
    "one_turn(chamber)"
   ]
  },
  {
   "cell_type": "code",
   "execution_count": 85,
   "id": "68f5a325",
   "metadata": {},
   "outputs": [],
   "source": [
    "chamber = [0,0,0,0,1,1]"
   ]
  },
  {
   "cell_type": "code",
   "execution_count": 86,
   "id": "5c5aa8f8",
   "metadata": {},
   "outputs": [
    {
     "data": {
      "text/plain": [
       "[1, 0, 0, 0, 0, 1]"
      ]
     },
     "execution_count": 86,
     "metadata": {},
     "output_type": "execute_result"
    }
   ],
   "source": [
    "one_turn(chamber)"
   ]
  },
  {
   "cell_type": "code",
   "execution_count": 93,
   "id": "efa8b3ec",
   "metadata": {},
   "outputs": [],
   "source": [
    "def spin_chamber(chamber):\n",
    "    n = np.random.randint(1,7)\n",
    "    for _ in range(n):\n",
    "        chamber = one_turn(chamber)\n",
    "    return chamber"
   ]
  },
  {
   "cell_type": "code",
   "execution_count": 94,
   "id": "65c9959d",
   "metadata": {},
   "outputs": [
    {
     "data": {
      "text/plain": [
       "[1, 1, 0, 0, 0, 0]"
      ]
     },
     "execution_count": 94,
     "metadata": {},
     "output_type": "execute_result"
    }
   ],
   "source": [
    "spin_chamber([1,1,0,0,0,0])"
   ]
  },
  {
   "cell_type": "code",
   "execution_count": 100,
   "id": "12ac75ee",
   "metadata": {},
   "outputs": [
    {
     "data": {
      "text/plain": [
       "[0, 0, 0, 0, 1, 1]    0.184\n",
       "[0, 0, 0, 1, 1, 0]    0.176\n",
       "[1, 0, 0, 0, 0, 1]    0.172\n",
       "[0, 0, 1, 1, 0, 0]    0.166\n",
       "[0, 1, 1, 0, 0, 0]    0.155\n",
       "[1, 1, 0, 0, 0, 0]    0.147\n",
       "Name: proportion, dtype: float64"
      ]
     },
     "execution_count": 100,
     "metadata": {},
     "output_type": "execute_result"
    }
   ],
   "source": [
    "pd.Series([spin_chamber([1,1,0,0,0,0]) for _ in range(1000)]).value_counts(normalize=True)"
   ]
  },
  {
   "cell_type": "code",
   "execution_count": 113,
   "id": "7b2fe892",
   "metadata": {},
   "outputs": [],
   "source": [
    "n = 10000\n",
    "result = []\n",
    "for _ in range(n):\n",
    "    # заряжаем револьвер \n",
    "    chamber = [1,1,0,0,0,0]\n",
    "    # первый игрок крутит барабан \n",
    "    chamber = spin_chamber(chamber)\n",
    "    # первый игрок стреляет \n",
    "    chamber = one_turn(chamber)\n",
    "\n",
    "    p1 = chamber[0]\n",
    "    chamber[0] = 0 \n",
    "    # второй игрок вращает барабан -- нужно ли это действие? \n",
    "    chamber = spin_chamber(chamber)\n",
    "    # второй игрок стреляет \n",
    "    chamber = one_turn(chamber)\n",
    "    p2 = chamber[0]\n",
    "    result.append([p1,p2])"
   ]
  },
  {
   "cell_type": "code",
   "execution_count": 116,
   "id": "0f0f37f9",
   "metadata": {},
   "outputs": [],
   "source": [
    "t = pd.DataFrame(result, columns = [\"p1\", \"p2\"])"
   ]
  },
  {
   "cell_type": "code",
   "execution_count": 117,
   "id": "740c2f0e",
   "metadata": {},
   "outputs": [
    {
     "data": {
      "text/html": [
       "<div>\n",
       "<style scoped>\n",
       "    .dataframe tbody tr th:only-of-type {\n",
       "        vertical-align: middle;\n",
       "    }\n",
       "\n",
       "    .dataframe tbody tr th {\n",
       "        vertical-align: top;\n",
       "    }\n",
       "\n",
       "    .dataframe thead th {\n",
       "        text-align: right;\n",
       "    }\n",
       "</style>\n",
       "<table border=\"1\" class=\"dataframe\">\n",
       "  <thead>\n",
       "    <tr style=\"text-align: right;\">\n",
       "      <th></th>\n",
       "      <th>p1</th>\n",
       "      <th>p2</th>\n",
       "    </tr>\n",
       "  </thead>\n",
       "  <tbody>\n",
       "    <tr>\n",
       "      <th>0</th>\n",
       "      <td>1</td>\n",
       "      <td>0</td>\n",
       "    </tr>\n",
       "    <tr>\n",
       "      <th>1</th>\n",
       "      <td>1</td>\n",
       "      <td>0</td>\n",
       "    </tr>\n",
       "    <tr>\n",
       "      <th>2</th>\n",
       "      <td>0</td>\n",
       "      <td>0</td>\n",
       "    </tr>\n",
       "    <tr>\n",
       "      <th>3</th>\n",
       "      <td>1</td>\n",
       "      <td>0</td>\n",
       "    </tr>\n",
       "    <tr>\n",
       "      <th>4</th>\n",
       "      <td>1</td>\n",
       "      <td>0</td>\n",
       "    </tr>\n",
       "    <tr>\n",
       "      <th>...</th>\n",
       "      <td>...</td>\n",
       "      <td>...</td>\n",
       "    </tr>\n",
       "    <tr>\n",
       "      <th>9995</th>\n",
       "      <td>1</td>\n",
       "      <td>0</td>\n",
       "    </tr>\n",
       "    <tr>\n",
       "      <th>9996</th>\n",
       "      <td>1</td>\n",
       "      <td>0</td>\n",
       "    </tr>\n",
       "    <tr>\n",
       "      <th>9997</th>\n",
       "      <td>0</td>\n",
       "      <td>1</td>\n",
       "    </tr>\n",
       "    <tr>\n",
       "      <th>9998</th>\n",
       "      <td>0</td>\n",
       "      <td>1</td>\n",
       "    </tr>\n",
       "    <tr>\n",
       "      <th>9999</th>\n",
       "      <td>1</td>\n",
       "      <td>0</td>\n",
       "    </tr>\n",
       "  </tbody>\n",
       "</table>\n",
       "<p>10000 rows × 2 columns</p>\n",
       "</div>"
      ],
      "text/plain": [
       "      p1  p2\n",
       "0      1   0\n",
       "1      1   0\n",
       "2      0   0\n",
       "3      1   0\n",
       "4      1   0\n",
       "...   ..  ..\n",
       "9995   1   0\n",
       "9996   1   0\n",
       "9997   0   1\n",
       "9998   0   1\n",
       "9999   1   0\n",
       "\n",
       "[10000 rows x 2 columns]"
      ]
     },
     "execution_count": 117,
     "metadata": {},
     "output_type": "execute_result"
    }
   ],
   "source": [
    "t"
   ]
  },
  {
   "cell_type": "code",
   "execution_count": 121,
   "id": "231f1d85",
   "metadata": {},
   "outputs": [
    {
     "data": {
      "text/html": [
       "<div>\n",
       "<style scoped>\n",
       "    .dataframe tbody tr th:only-of-type {\n",
       "        vertical-align: middle;\n",
       "    }\n",
       "\n",
       "    .dataframe tbody tr th {\n",
       "        vertical-align: top;\n",
       "    }\n",
       "\n",
       "    .dataframe thead th {\n",
       "        text-align: right;\n",
       "    }\n",
       "</style>\n",
       "<table border=\"1\" class=\"dataframe\">\n",
       "  <thead>\n",
       "    <tr style=\"text-align: right;\">\n",
       "      <th></th>\n",
       "      <th>count</th>\n",
       "      <th>mean</th>\n",
       "    </tr>\n",
       "    <tr>\n",
       "      <th>p1</th>\n",
       "      <th></th>\n",
       "      <th></th>\n",
       "    </tr>\n",
       "  </thead>\n",
       "  <tbody>\n",
       "    <tr>\n",
       "      <th>0</th>\n",
       "      <td>6748</td>\n",
       "      <td>0.334914</td>\n",
       "    </tr>\n",
       "    <tr>\n",
       "      <th>1</th>\n",
       "      <td>3252</td>\n",
       "      <td>0.174354</td>\n",
       "    </tr>\n",
       "  </tbody>\n",
       "</table>\n",
       "</div>"
      ],
      "text/plain": [
       "    count      mean\n",
       "p1                 \n",
       "0    6748  0.334914\n",
       "1    3252  0.174354"
      ]
     },
     "execution_count": 121,
     "metadata": {},
     "output_type": "execute_result"
    }
   ],
   "source": [
    "t.groupby(\"p1\")[\"p2\"].agg([\"count\",\"mean\"])"
   ]
  },
  {
   "cell_type": "code",
   "execution_count": 125,
   "id": "12dd1508",
   "metadata": {},
   "outputs": [],
   "source": [
    "n = 10000\n",
    "result = []\n",
    "for _ in range(n):\n",
    "    # заряжаем револьвер \n",
    "    chamber = [1,1,0,0,0,0]\n",
    "    # первый игрок крутит барабан \n",
    "    chamber = spin_chamber(chamber)\n",
    "    # первый игрок стреляет \n",
    "    chamber = one_turn(chamber)\n",
    "\n",
    "    p1 = chamber[0]\n",
    "    chamber[0] = 0 \n",
    "    # второй игрок стреляет \n",
    "    chamber = one_turn(chamber)\n",
    "    p2 = chamber[0]\n",
    "    result.append([p1,p2])"
   ]
  },
  {
   "cell_type": "code",
   "execution_count": 126,
   "id": "6e82838a",
   "metadata": {},
   "outputs": [],
   "source": [
    "t = pd.DataFrame(result, columns = [\"p1\", \"p2\"])"
   ]
  },
  {
   "cell_type": "code",
   "execution_count": 127,
   "id": "4d9f3b2e",
   "metadata": {},
   "outputs": [
    {
     "data": {
      "text/html": [
       "<div>\n",
       "<style scoped>\n",
       "    .dataframe tbody tr th:only-of-type {\n",
       "        vertical-align: middle;\n",
       "    }\n",
       "\n",
       "    .dataframe tbody tr th {\n",
       "        vertical-align: top;\n",
       "    }\n",
       "\n",
       "    .dataframe thead th {\n",
       "        text-align: right;\n",
       "    }\n",
       "</style>\n",
       "<table border=\"1\" class=\"dataframe\">\n",
       "  <thead>\n",
       "    <tr style=\"text-align: right;\">\n",
       "      <th></th>\n",
       "      <th>count</th>\n",
       "      <th>mean</th>\n",
       "    </tr>\n",
       "    <tr>\n",
       "      <th>p1</th>\n",
       "      <th></th>\n",
       "      <th></th>\n",
       "    </tr>\n",
       "  </thead>\n",
       "  <tbody>\n",
       "    <tr>\n",
       "      <th>0</th>\n",
       "      <td>6706</td>\n",
       "      <td>0.246794</td>\n",
       "    </tr>\n",
       "    <tr>\n",
       "      <th>1</th>\n",
       "      <td>3294</td>\n",
       "      <td>0.506679</td>\n",
       "    </tr>\n",
       "  </tbody>\n",
       "</table>\n",
       "</div>"
      ],
      "text/plain": [
       "    count      mean\n",
       "p1                 \n",
       "0    6706  0.246794\n",
       "1    3294  0.506679"
      ]
     },
     "execution_count": 127,
     "metadata": {},
     "output_type": "execute_result"
    }
   ],
   "source": [
    "t.groupby(\"p1\")[\"p2\"].agg([\"count\",\"mean\"])"
   ]
  },
  {
   "cell_type": "code",
   "execution_count": null,
   "id": "86956c28",
   "metadata": {},
   "outputs": [],
   "source": [
    "# Получается вращать барабан не нужно."
   ]
  }
 ],
 "metadata": {
  "kernelspec": {
   "display_name": "Python 3 (ipykernel)",
   "language": "python",
   "name": "python3"
  },
  "language_info": {
   "codemirror_mode": {
    "name": "ipython",
    "version": 3
   },
   "file_extension": ".py",
   "mimetype": "text/x-python",
   "name": "python",
   "nbconvert_exporter": "python",
   "pygments_lexer": "ipython3",
   "version": "3.10.9"
  }
 },
 "nbformat": 4,
 "nbformat_minor": 5
}
