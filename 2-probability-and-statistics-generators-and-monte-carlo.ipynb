{
 "cells": [
  {
   "cell_type": "code",
   "execution_count": 4,
   "id": "d3ad166d",
   "metadata": {},
   "outputs": [],
   "source": [
    "import pandas as pd\n",
    "import numpy as np\n",
    "import random "
   ]
  },
  {
   "cell_type": "markdown",
   "id": "46c06a27",
   "metadata": {},
   "source": [
    "# Генератор бросков монетки"
   ]
  },
  {
   "cell_type": "code",
   "execution_count": 7,
   "id": "4a96c807",
   "metadata": {},
   "outputs": [
    {
     "data": {
      "text/plain": [
       "0"
      ]
     },
     "execution_count": 7,
     "metadata": {},
     "output_type": "execute_result"
    }
   ],
   "source": [
    "np.random.binomial(1, 0.5)"
   ]
  },
  {
   "cell_type": "code",
   "execution_count": 13,
   "id": "3da3fa2c",
   "metadata": {},
   "outputs": [],
   "source": [
    "result = []\n",
    "for _ in range(0, 3):\n",
    "    result.append(np.random.binomial(1, 0.5))"
   ]
  },
  {
   "cell_type": "code",
   "execution_count": 14,
   "id": "036bec33",
   "metadata": {},
   "outputs": [
    {
     "data": {
      "text/plain": [
       "[1, 0, 1]"
      ]
     },
     "execution_count": 14,
     "metadata": {},
     "output_type": "execute_result"
    }
   ],
   "source": [
    "result"
   ]
  },
  {
   "cell_type": "code",
   "execution_count": 12,
   "id": "b930a617",
   "metadata": {},
   "outputs": [
    {
     "data": {
      "text/plain": [
       "[0, 1, 0]"
      ]
     },
     "execution_count": 12,
     "metadata": {},
     "output_type": "execute_result"
    }
   ],
   "source": [
    "[np.random.binomial(1, 0.5) for _ in range(0,3)]"
   ]
  },
  {
   "cell_type": "code",
   "execution_count": 16,
   "id": "04999e88",
   "metadata": {},
   "outputs": [
    {
     "data": {
      "text/plain": [
       "array([1, 1, 1])"
      ]
     },
     "execution_count": 16,
     "metadata": {},
     "output_type": "execute_result"
    }
   ],
   "source": [
    "np.random.binomial(1, 0.5, size=3) # size - количество бросков "
   ]
  },
  {
   "cell_type": "code",
   "execution_count": 25,
   "id": "f1fa6af1",
   "metadata": {},
   "outputs": [
    {
     "data": {
      "text/plain": [
       "1"
      ]
     },
     "execution_count": 25,
     "metadata": {},
     "output_type": "execute_result"
    }
   ],
   "source": [
    "pd.Series([0,1]).sample(1).values[0]"
   ]
  },
  {
   "cell_type": "code",
   "execution_count": 23,
   "id": "ceb99bf4",
   "metadata": {},
   "outputs": [
    {
     "data": {
      "text/plain": [
       "[1    1\n",
       " dtype: int64,\n",
       " 0    0\n",
       " dtype: int64,\n",
       " 0    0\n",
       " dtype: int64]"
      ]
     },
     "execution_count": 23,
     "metadata": {},
     "output_type": "execute_result"
    }
   ],
   "source": [
    "result = []\n",
    "for _ in range(0, 3):\n",
    "    result.append(pd.Series([0,1]).sample(1))\n",
    "result"
   ]
  },
  {
   "cell_type": "code",
   "execution_count": 26,
   "id": "b7800ca6",
   "metadata": {},
   "outputs": [],
   "source": [
    "def coin_toss():\n",
    "    return pd.Series([0,1]).sample(1).values[0]"
   ]
  },
  {
   "cell_type": "code",
   "execution_count": 29,
   "id": "5d2e6300",
   "metadata": {},
   "outputs": [
    {
     "data": {
      "text/plain": [
       "0"
      ]
     },
     "execution_count": 29,
     "metadata": {},
     "output_type": "execute_result"
    }
   ],
   "source": [
    "coin_toss()"
   ]
  },
  {
   "cell_type": "code",
   "execution_count": 31,
   "id": "273173b0",
   "metadata": {},
   "outputs": [
    {
     "data": {
      "text/plain": [
       "1    1\n",
       "0    0\n",
       "dtype: int64"
      ]
     },
     "execution_count": 31,
     "metadata": {},
     "output_type": "execute_result"
    }
   ],
   "source": [
    "pd.Series([0,1]).sample(2) # Выборка без возвращения"
   ]
  },
  {
   "cell_type": "code",
   "execution_count": 32,
   "id": "e779c485",
   "metadata": {},
   "outputs": [
    {
     "data": {
      "text/plain": [
       "0    0\n",
       "1    1\n",
       "dtype: int64"
      ]
     },
     "execution_count": 32,
     "metadata": {},
     "output_type": "execute_result"
    }
   ],
   "source": [
    "pd.Series([0,1]).sample(2, replace=True) # Выборка c возвращением"
   ]
  },
  {
   "cell_type": "code",
   "execution_count": 33,
   "id": "2f09aa55",
   "metadata": {},
   "outputs": [
    {
     "data": {
      "text/plain": [
       "1    1\n",
       "1    1\n",
       "0    0\n",
       "0    0\n",
       "0    0\n",
       "0    0\n",
       "0    0\n",
       "0    0\n",
       "0    0\n",
       "1    1\n",
       "dtype: int64"
      ]
     },
     "execution_count": 33,
     "metadata": {},
     "output_type": "execute_result"
    }
   ],
   "source": [
    "pd.Series([0,1]).sample(10, replace=True) # Выборка c возвращением"
   ]
  },
  {
   "cell_type": "markdown",
   "id": "9e270d9d",
   "metadata": {},
   "source": [
    "# Генератор Кубика"
   ]
  },
  {
   "cell_type": "code",
   "execution_count": 35,
   "id": "b1ee58e1",
   "metadata": {},
   "outputs": [
    {
     "data": {
      "text/plain": [
       "3    4\n",
       "2    3\n",
       "0    1\n",
       "1    2\n",
       "5    6\n",
       "2    3\n",
       "4    5\n",
       "5    6\n",
       "5    6\n",
       "1    2\n",
       "dtype: int64"
      ]
     },
     "execution_count": 35,
     "metadata": {},
     "output_type": "execute_result"
    }
   ],
   "source": [
    "pd.Series([1,2,3,4,5,6]).sample(10, replace=True)"
   ]
  },
  {
   "cell_type": "code",
   "execution_count": 37,
   "id": "0dc3888d",
   "metadata": {},
   "outputs": [
    {
     "data": {
      "text/plain": [
       "array([5, 1, 3, 4, 5, 3, 4, 5, 2, 4])"
      ]
     },
     "execution_count": 37,
     "metadata": {},
     "output_type": "execute_result"
    }
   ],
   "source": [
    "np.random.randint(1,6, size=10)"
   ]
  },
  {
   "cell_type": "code",
   "execution_count": 39,
   "id": "1b1aad59",
   "metadata": {},
   "outputs": [
    {
     "data": {
      "text/plain": [
       "0    6\n",
       "1    6\n",
       "2    3\n",
       "3    6\n",
       "4    1\n",
       "5    4\n",
       "6    5\n",
       "7    3\n",
       "8    4\n",
       "9    3\n",
       "dtype: int64"
      ]
     },
     "execution_count": 39,
     "metadata": {},
     "output_type": "execute_result"
    }
   ],
   "source": [
    "pd.Series([1,2,3,4,5,6]).sample(10, replace=True).reset_index(drop=True)"
   ]
  },
  {
   "cell_type": "code",
   "execution_count": 42,
   "id": "2db7185a",
   "metadata": {},
   "outputs": [
    {
     "data": {
      "text/plain": [
       "0    [1, 1, 1, 1, 1, 1, 1, 0, 0, 0]\n",
       "1    [1, 1, 1, 1, 1, 1, 1, 0, 0, 0]\n",
       "2    [1, 1, 1, 1, 1, 1, 1, 0, 0, 0]\n",
       "3    [1, 1, 1, 1, 1, 1, 1, 0, 0, 0]\n",
       "4    [1, 1, 1, 1, 1, 1, 1, 0, 0, 0]\n",
       "5    [1, 1, 1, 1, 1, 1, 1, 0, 0, 0]\n",
       "6    [1, 1, 1, 1, 1, 1, 1, 0, 0, 0]\n",
       "7    [1, 1, 1, 1, 1, 1, 1, 0, 0, 0]\n",
       "8    [1, 1, 1, 1, 1, 1, 1, 0, 0, 0]\n",
       "9    [1, 1, 1, 1, 1, 1, 1, 0, 0, 0]\n",
       "dtype: object"
      ]
     },
     "execution_count": 42,
     "metadata": {},
     "output_type": "execute_result"
    }
   ],
   "source": [
    "pd.Series([[1]*7 + [0] * 3]).sample(10, replace=True).reset_index(drop=True)"
   ]
  },
  {
   "cell_type": "markdown",
   "id": "b8cd14b1",
   "metadata": {},
   "source": [
    "# Непрерывное равномерное распределение "
   ]
  },
  {
   "cell_type": "code",
   "execution_count": 43,
   "id": "1f5262cd",
   "metadata": {},
   "outputs": [
    {
     "data": {
      "text/plain": [
       "0.03643957289713229"
      ]
     },
     "execution_count": 43,
     "metadata": {},
     "output_type": "execute_result"
    }
   ],
   "source": [
    "np.random.uniform()"
   ]
  },
  {
   "cell_type": "code",
   "execution_count": 51,
   "id": "c9d09bb8",
   "metadata": {},
   "outputs": [
    {
     "data": {
      "text/plain": [
       "<Axes: >"
      ]
     },
     "execution_count": 51,
     "metadata": {},
     "output_type": "execute_result"
    },
    {
     "data": {
      "image/png": "[encoded data removed]",
      "text/plain": [
       "<Figure size 640x480 with 1 Axes>"
      ]
     },
     "metadata": {},
     "output_type": "display_data"
    }
   ],
   "source": [
    "pd.Series(np.random.binomial(1,0.5,size=1000)).hist()"
   ]
  },
  {
   "cell_type": "code",
   "execution_count": 53,
   "id": "a5c75775",
   "metadata": {},
   "outputs": [
    {
     "data": {
      "text/plain": [
       "0.45703155086801084"
      ]
     },
     "execution_count": 53,
     "metadata": {},
     "output_type": "execute_result"
    }
   ],
   "source": [
    "np.random.uniform()"
   ]
  },
  {
   "cell_type": "code",
   "execution_count": 54,
   "id": "a0ee3439",
   "metadata": {},
   "outputs": [
    {
     "data": {
      "text/plain": [
       "<Axes: >"
      ]
     },
     "execution_count": 54,
     "metadata": {},
     "output_type": "execute_result"
    },
    {
     "data": {
      "image/png": "[encoded data removed]",
      "text/plain": [
       "<Figure size 640x480 with 1 Axes>"
      ]
     },
     "metadata": {},
     "output_type": "display_data"
    }
   ],
   "source": [
    "pd.Series(np.random.uniform(size=1000)).hist()"
   ]
  },
  {
   "cell_type": "code",
   "execution_count": 55,
   "id": "559e25ff",
   "metadata": {},
   "outputs": [
    {
     "data": {
      "text/plain": [
       "0      0.539975\n",
       "1      0.901202\n",
       "2      0.974939\n",
       "3      0.126416\n",
       "4      0.806665\n",
       "         ...   \n",
       "995    0.992058\n",
       "996    0.440086\n",
       "997    0.517452\n",
       "998    0.836543\n",
       "999    0.780419\n",
       "Length: 1000, dtype: float64"
      ]
     },
     "execution_count": 55,
     "metadata": {},
     "output_type": "execute_result"
    }
   ],
   "source": [
    "pd.Series(np.random.uniform(size=1000))"
   ]
  },
  {
   "cell_type": "code",
   "execution_count": 58,
   "id": "29387b47",
   "metadata": {},
   "outputs": [
    {
     "data": {
      "text/plain": [
       "array([ 2,  3,  2,  2,  2,  6,  4,  7,  3,  5,  6,  6,  7,  4,  5, 10,  4,\n",
       "        4,  3,  7,  5,  5,  5,  3,  5,  5,  5,  4,  3, 11,  2,  0,  7,  4,\n",
       "        1, 10,  4,  4,  7,  6,  6,  5,  5,  7,  2,  3,  6,  6,  5,  2,  4,\n",
       "        2,  2,  7,  1,  2,  4,  5,  5,  3,  6,  3,  4,  3,  7,  4,  3,  8,\n",
       "        8,  7,  6,  5,  4,  1,  1,  7,  3,  2,  4,  3,  3,  3,  2,  8,  4,\n",
       "        4,  8,  7,  8,  7,  4,  6,  5,  6,  7,  5,  4,  3,  4,  7])"
      ]
     },
     "execution_count": 58,
     "metadata": {},
     "output_type": "execute_result"
    }
   ],
   "source": [
    "np.random.poisson(5, size=100)"
   ]
  },
  {
   "cell_type": "code",
   "execution_count": 60,
   "id": "584ab8e4",
   "metadata": {},
   "outputs": [
    {
     "data": {
      "text/plain": [
       "<Axes: >"
      ]
     },
     "execution_count": 60,
     "metadata": {},
     "output_type": "execute_result"
    },
    {
     "data": {
      "image/png": "[encoded data removed]",
      "text/plain": [
       "<Figure size 640x480 with 1 Axes>"
      ]
     },
     "metadata": {},
     "output_type": "display_data"
    }
   ],
   "source": [
    "pd.Series(np.random.poisson(5, size=100)).hist()"
   ]
  },
  {
   "cell_type": "code",
   "execution_count": 65,
   "id": "15be47cd",
   "metadata": {},
   "outputs": [
    {
     "data": {
      "text/plain": [
       "<Axes: >"
      ]
     },
     "execution_count": 65,
     "metadata": {},
     "output_type": "execute_result"
    },
    {
     "data": {
      "image/png": "[encoded data removed]",
      "text/plain": [
       "<Figure size 640x480 with 1 Axes>"
      ]
     },
     "metadata": {},
     "output_type": "display_data"
    }
   ],
   "source": [
    "pd.Series(np.random.chisquare(100, size=100)).hist()"
   ]
  },
  {
   "cell_type": "code",
   "execution_count": 67,
   "id": "91b769ef",
   "metadata": {},
   "outputs": [
    {
     "data": {
      "text/plain": [
       "<Axes: >"
      ]
     },
     "execution_count": 67,
     "metadata": {},
     "output_type": "execute_result"
    },
    {
     "data": {
      "image/png": "[encoded data removed]",
      "text/plain": [
       "<Figure size 640x480 with 1 Axes>"
      ]
     },
     "metadata": {},
     "output_type": "display_data"
    }
   ],
   "source": [
    "pd.Series(np.random.lognormal(100, size=100)).hist() # Жирный хвост"
   ]
  },
  {
   "cell_type": "code",
   "execution_count": 68,
   "id": "cd548344",
   "metadata": {},
   "outputs": [
    {
     "data": {
      "text/plain": [
       "<Axes: >"
      ]
     },
     "execution_count": 68,
     "metadata": {},
     "output_type": "execute_result"
    },
    {
     "data": {
      "image/png": "[encoded data removed]",
      "text/plain": [
       "<Figure size 640x480 with 1 Axes>"
      ]
     },
     "metadata": {},
     "output_type": "display_data"
    }
   ],
   "source": [
    "pd.Series(np.random.pareto(100, size=100)).hist() # Распределение Pareto "
   ]
  },
  {
   "cell_type": "code",
   "execution_count": 69,
   "id": "3b00faab",
   "metadata": {},
   "outputs": [],
   "source": [
    "uniform = pd.Series(np.random.uniform(size=1000)) # Пример непрерывного "
   ]
  },
  {
   "cell_type": "code",
   "execution_count": 70,
   "id": "7e168383",
   "metadata": {},
   "outputs": [
    {
     "data": {
      "text/plain": [
       "0      0.721036\n",
       "1      0.321372\n",
       "2      0.393581\n",
       "3      0.630921\n",
       "4      0.013257\n",
       "         ...   \n",
       "995    0.587675\n",
       "996    0.768869\n",
       "997    0.634996\n",
       "998    0.402391\n",
       "999    0.730046\n",
       "Length: 1000, dtype: float64"
      ]
     },
     "execution_count": 70,
     "metadata": {},
     "output_type": "execute_result"
    }
   ],
   "source": [
    "uniform"
   ]
  },
  {
   "cell_type": "code",
   "execution_count": 74,
   "id": "194973f5",
   "metadata": {},
   "outputs": [
    {
     "data": {
      "text/plain": [
       "861    0.782104\n",
       "770    0.516465\n",
       "47     0.162993\n",
       "268    0.558592\n",
       "453    0.372548\n",
       "         ...   \n",
       "805    0.484676\n",
       "809    0.105070\n",
       "926    0.526150\n",
       "413    0.513044\n",
       "236    0.396641\n",
       "Length: 100, dtype: float64"
      ]
     },
     "execution_count": 74,
     "metadata": {},
     "output_type": "execute_result"
    }
   ],
   "source": [
    "uniform.sample(100, replace = True) # 100 наблюдений из равномерного распределения "
   ]
  },
  {
   "cell_type": "code",
   "execution_count": 78,
   "id": "2f93c001",
   "metadata": {},
   "outputs": [
    {
     "data": {
      "text/plain": [
       "<Axes: >"
      ]
     },
     "execution_count": 78,
     "metadata": {},
     "output_type": "execute_result"
    },
    {
     "data": {
      "image/png": "[encoded data removed]",
      "text/plain": [
       "<Figure size 640x480 with 1 Axes>"
      ]
     },
     "metadata": {},
     "output_type": "display_data"
    }
   ],
   "source": [
    "pd.Series(uniform.sample(10000, replace = True)).hist() # Плюс минус видно равномерное распределение "
   ]
  },
  {
   "cell_type": "markdown",
   "id": "a1c67061",
   "metadata": {},
   "source": [
    "# PMF (propobility mass fanction) Функция массы вероятности"
   ]
  },
  {
   "cell_type": "markdown",
   "id": "3cf3399b",
   "metadata": {},
   "source": [
    "https://www.codecamp.ru/blog/pmf-statistics/"
   ]
  },
  {
   "cell_type": "code",
   "execution_count": 82,
   "id": "125944d1",
   "metadata": {},
   "outputs": [],
   "source": [
    "import seaborn as sns"
   ]
  },
  {
   "cell_type": "code",
   "execution_count": 86,
   "id": "7fcfb2a0",
   "metadata": {},
   "outputs": [
    {
     "data": {
      "text/plain": [
       "<Axes: ylabel='Probability'>"
      ]
     },
     "execution_count": 86,
     "metadata": {},
     "output_type": "execute_result"
    },
    {
     "data": {
      "image/png": "[encoded data removed]",
      "text/plain": [
       "<Figure size 640x480 with 1 Axes>"
      ]
     },
     "metadata": {},
     "output_type": "display_data"
    }
   ],
   "source": [
    "sns.histplot(np.random.randint(1,7,size=1000), stat=\"probability\")"
   ]
  },
  {
   "cell_type": "markdown",
   "id": "12a3b37f",
   "metadata": {},
   "source": [
    "# CDF (Cumulative distribution function)"
   ]
  },
  {
   "cell_type": "code",
   "execution_count": 89,
   "id": "4b0d8add",
   "metadata": {},
   "outputs": [
    {
     "data": {
      "text/plain": [
       "<Axes: ylabel='Proportion'>"
      ]
     },
     "execution_count": 89,
     "metadata": {},
     "output_type": "execute_result"
    },
    {
     "data": {
      "image/png": "[encoded data removed]",
      "text/plain": [
       "<Figure size 640x480 with 1 Axes>"
      ]
     },
     "metadata": {},
     "output_type": "display_data"
    }
   ],
   "source": [
    "sns.ecdfplot(np.random.randint(1,7,size=1000))"
   ]
  },
  {
   "cell_type": "code",
   "execution_count": 95,
   "id": "8a221304",
   "metadata": {},
   "outputs": [
    {
     "data": {
      "text/plain": [
       "<Axes: ylabel='Count'>"
      ]
     },
     "execution_count": 95,
     "metadata": {},
     "output_type": "execute_result"
    },
    {
     "data": {
      "image/png": "[encoded data removed]",
      "text/plain": [
       "<Figure size 640x480 with 1 Axes>"
      ]
     },
     "metadata": {},
     "output_type": "display_data"
    }
   ],
   "source": [
    "sns.histplot(pd.Series([1,2,3,4,5,6]).sample(100, replace=True))"
   ]
  },
  {
   "cell_type": "code",
   "execution_count": 98,
   "id": "a1378f8b",
   "metadata": {},
   "outputs": [
    {
     "data": {
      "text/plain": [
       "<Axes: ylabel='Count'>"
      ]
     },
     "execution_count": 98,
     "metadata": {},
     "output_type": "execute_result"
    },
    {
     "data": {
      "image/png": "[encoded data removed]",
      "text/plain": [
       "<Figure size 640x480 with 1 Axes>"
      ]
     },
     "metadata": {},
     "output_type": "display_data"
    }
   ],
   "source": [
    "sns.histplot(np.random.normal(size=10000))"
   ]
  },
  {
   "cell_type": "code",
   "execution_count": 99,
   "id": "b7fd7b47",
   "metadata": {},
   "outputs": [
    {
     "data": {
      "text/plain": [
       "<Axes: ylabel='Proportion'>"
      ]
     },
     "execution_count": 99,
     "metadata": {},
     "output_type": "execute_result"
    },
    {
     "data": {
      "image/png": "[encoded data removed]",
      "text/plain": [
       "<Figure size 640x480 with 1 Axes>"
      ]
     },
     "metadata": {},
     "output_type": "display_data"
    }
   ],
   "source": [
    "sns.ecdfplot(np.random.normal(size=10000))"
   ]
  },
  {
   "cell_type": "markdown",
   "id": "3fb4be1a",
   "metadata": {},
   "source": [
    "https://seaborn-qqplot.readthedocs.io/en/latest/`"
   ]
  },
  {
   "cell_type": "code",
   "execution_count": 101,
   "id": "3e07b7cb",
   "metadata": {},
   "outputs": [
    {
     "data": {
      "image/png": "[encoded data removed]",
      "text/plain": [
       "<Figure size 640x480 with 1 Axes>"
      ]
     },
     "metadata": {},
     "output_type": "display_data"
    }
   ],
   "source": [
    "import numpy as np\n",
    "import statsmodels.api as sm\n",
    "import pylab as py\n",
    "\n",
    "data_points = np.random.normal(0, 1, 100)    \n",
    "  \n",
    "sm.qqplot(data_points, line ='45')\n",
    "py.show()"
   ]
  },
  {
   "cell_type": "code",
   "execution_count": null,
   "id": "77607fec",
   "metadata": {},
   "outputs": [],
   "source": []
  }
 ],
 "metadata": {
  "kernelspec": {
   "display_name": "Python 3 (ipykernel)",
   "language": "python",
   "name": "python3"
  },
  "language_info": {
   "codemirror_mode": {
    "name": "ipython",
    "version": 3
   },
   "file_extension": ".py",
   "mimetype": "text/x-python",
   "name": "python",
   "nbconvert_exporter": "python",
   "pygments_lexer": "ipython3",
   "version": "3.10.9"
  }
 },
 "nbformat": 4,
 "nbformat_minor": 5
}
